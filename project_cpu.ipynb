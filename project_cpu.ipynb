{
 "cells": [
  {
   "cell_type": "code",
   "execution_count": null,
   "metadata": {
    "collapsed": true,
    "execution": {
     "iopub.execute_input": "2025-05-09T21:29:03.192729Z",
     "iopub.status.busy": "2025-05-09T21:29:03.192408Z",
     "iopub.status.idle": "2025-05-09T21:31:49.003775Z",
     "shell.execute_reply": "2025-05-09T21:31:49.002585Z",
     "shell.execute_reply.started": "2025-05-09T21:29:03.192698Z"
    },
    "jupyter": {
     "outputs_hidden": true
    },
    "trusted": true
   },
   "outputs": [
    {
     "name": "stdout",
     "output_type": "stream",
     "text": [
      "Requirement already satisfied: facexlib in c:\\users\\y\\anaconda3\\lib\\site-packages (0.3.0)\n",
      "Requirement already satisfied: basicsr in c:\\users\\y\\anaconda3\\lib\\site-packages (1.4.2)\n",
      "Requirement already satisfied: filterpy in c:\\users\\y\\anaconda3\\lib\\site-packages (from facexlib) (1.4.5)\n",
      "Requirement already satisfied: numba in c:\\users\\y\\anaconda3\\lib\\site-packages (from facexlib) (0.60.0)\n",
      "Requirement already satisfied: numpy in c:\\users\\y\\anaconda3\\lib\\site-packages (from facexlib) (1.26.4)\n",
      "Requirement already satisfied: opencv-python in c:\\users\\y\\anaconda3\\lib\\site-packages (from facexlib) (4.11.0.86)\n",
      "Requirement already satisfied: Pillow in c:\\users\\y\\anaconda3\\lib\\site-packages (from facexlib) (10.4.0)\n",
      "Requirement already satisfied: scipy in c:\\users\\y\\anaconda3\\lib\\site-packages (from facexlib) (1.13.1)\n",
      "Requirement already satisfied: torch in c:\\users\\y\\anaconda3\\lib\\site-packages (from facexlib) (2.6.0+cu118)\n",
      "Requirement already satisfied: torchvision in c:\\users\\y\\anaconda3\\lib\\site-packages (from facexlib) (0.21.0+cu118)\n",
      "Requirement already satisfied: tqdm in c:\\users\\y\\anaconda3\\lib\\site-packages (from facexlib) (4.66.5)\n",
      "Requirement already satisfied: addict in c:\\users\\y\\anaconda3\\lib\\site-packages (from basicsr) (2.4.0)\n",
      "Requirement already satisfied: future in c:\\users\\y\\anaconda3\\lib\\site-packages (from basicsr) (1.0.0)\n",
      "Requirement already satisfied: lmdb in c:\\users\\y\\anaconda3\\lib\\site-packages (from basicsr) (1.4.1)\n",
      "Requirement already satisfied: pyyaml in c:\\users\\y\\anaconda3\\lib\\site-packages (from basicsr) (6.0.1)\n",
      "Requirement already satisfied: requests in c:\\users\\y\\anaconda3\\lib\\site-packages (from basicsr) (2.32.3)\n",
      "Requirement already satisfied: scikit-image in c:\\users\\y\\anaconda3\\lib\\site-packages (from basicsr) (0.24.0)\n",
      "Requirement already satisfied: tb-nightly in c:\\users\\y\\anaconda3\\lib\\site-packages (from basicsr) (2.20.0a20250510)\n",
      "Requirement already satisfied: yapf in c:\\users\\y\\anaconda3\\lib\\site-packages (from basicsr) (0.40.2)\n",
      "Requirement already satisfied: filelock in c:\\users\\y\\anaconda3\\lib\\site-packages (from torch->facexlib) (3.13.1)\n",
      "Requirement already satisfied: typing-extensions>=4.10.0 in c:\\users\\y\\anaconda3\\lib\\site-packages (from torch->facexlib) (4.11.0)\n",
      "Requirement already satisfied: networkx in c:\\users\\y\\anaconda3\\lib\\site-packages (from torch->facexlib) (3.1)\n",
      "Requirement already satisfied: jinja2 in c:\\users\\y\\anaconda3\\lib\\site-packages (from torch->facexlib) (3.1.4)\n",
      "Requirement already satisfied: fsspec in c:\\users\\y\\anaconda3\\lib\\site-packages (from torch->facexlib) (2024.6.1)\n",
      "Requirement already satisfied: setuptools in c:\\users\\y\\anaconda3\\lib\\site-packages (from torch->facexlib) (75.1.0)\n",
      "Requirement already satisfied: sympy==1.13.1 in c:\\users\\y\\anaconda3\\lib\\site-packages (from torch->facexlib) (1.13.1)\n",
      "Requirement already satisfied: mpmath<1.4,>=1.1.0 in c:\\users\\y\\anaconda3\\lib\\site-packages (from sympy==1.13.1->torch->facexlib) (1.3.0)\n",
      "Requirement already satisfied: matplotlib in c:\\users\\y\\anaconda3\\lib\\site-packages (from filterpy->facexlib) (3.9.2)\n",
      "Requirement already satisfied: llvmlite<0.44,>=0.43.0dev0 in c:\\users\\y\\anaconda3\\lib\\site-packages (from numba->facexlib) (0.43.0)\n",
      "Requirement already satisfied: charset-normalizer<4,>=2 in c:\\users\\y\\anaconda3\\lib\\site-packages (from requests->basicsr) (3.3.2)\n",
      "Requirement already satisfied: idna<4,>=2.5 in c:\\users\\y\\anaconda3\\lib\\site-packages (from requests->basicsr) (3.7)\n",
      "Requirement already satisfied: urllib3<3,>=1.21.1 in c:\\users\\y\\anaconda3\\lib\\site-packages (from requests->basicsr) (2.2.3)\n",
      "Requirement already satisfied: certifi>=2017.4.17 in c:\\users\\y\\anaconda3\\lib\\site-packages (from requests->basicsr) (2024.8.30)\n",
      "Requirement already satisfied: imageio>=2.33 in c:\\users\\y\\anaconda3\\lib\\site-packages (from scikit-image->basicsr) (2.33.1)\n",
      "Requirement already satisfied: tifffile>=2022.8.12 in c:\\users\\y\\anaconda3\\lib\\site-packages (from scikit-image->basicsr) (2023.4.12)\n",
      "Requirement already satisfied: packaging>=21 in c:\\users\\y\\anaconda3\\lib\\site-packages (from scikit-image->basicsr) (24.1)\n",
      "Requirement already satisfied: lazy-loader>=0.4 in c:\\users\\y\\anaconda3\\lib\\site-packages (from scikit-image->basicsr) (0.4)\n",
      "Requirement already satisfied: absl-py>=0.4 in c:\\users\\y\\anaconda3\\lib\\site-packages (from tb-nightly->basicsr) (2.2.2)\n",
      "Requirement already satisfied: grpcio>=1.48.2 in c:\\users\\y\\anaconda3\\lib\\site-packages (from tb-nightly->basicsr) (1.71.0)\n",
      "Requirement already satisfied: markdown>=2.6.8 in c:\\users\\y\\anaconda3\\lib\\site-packages (from tb-nightly->basicsr) (3.4.1)\n",
      "Requirement already satisfied: protobuf!=4.24.0,>=3.19.6 in c:\\users\\y\\anaconda3\\lib\\site-packages (from tb-nightly->basicsr) (4.25.3)\n",
      "Requirement already satisfied: six>1.9 in c:\\users\\y\\anaconda3\\lib\\site-packages (from tb-nightly->basicsr) (1.16.0)\n",
      "Requirement already satisfied: tensorboard-data-server<0.8.0,>=0.7.0 in c:\\users\\y\\anaconda3\\lib\\site-packages (from tb-nightly->basicsr) (0.7.2)\n",
      "Requirement already satisfied: werkzeug>=1.0.1 in c:\\users\\y\\anaconda3\\lib\\site-packages (from tb-nightly->basicsr) (3.0.3)\n",
      "Requirement already satisfied: colorama in c:\\users\\y\\anaconda3\\lib\\site-packages (from tqdm->facexlib) (0.4.6)\n",
      "Requirement already satisfied: importlib-metadata>=6.6.0 in c:\\users\\y\\anaconda3\\lib\\site-packages (from yapf->basicsr) (7.0.1)\n",
      "Requirement already satisfied: platformdirs>=3.5.1 in c:\\users\\y\\anaconda3\\lib\\site-packages (from yapf->basicsr) (3.10.0)\n",
      "Requirement already satisfied: tomli>=2.0.1 in c:\\users\\y\\anaconda3\\lib\\site-packages (from yapf->basicsr) (2.0.1)\n",
      "Requirement already satisfied: zipp>=0.5 in c:\\users\\y\\anaconda3\\lib\\site-packages (from importlib-metadata>=6.6.0->yapf->basicsr) (3.17.0)\n",
      "Requirement already satisfied: MarkupSafe>=2.1.1 in c:\\users\\y\\anaconda3\\lib\\site-packages (from werkzeug>=1.0.1->tb-nightly->basicsr) (2.1.3)\n",
      "Requirement already satisfied: contourpy>=1.0.1 in c:\\users\\y\\anaconda3\\lib\\site-packages (from matplotlib->filterpy->facexlib) (1.2.0)\n",
      "Requirement already satisfied: cycler>=0.10 in c:\\users\\y\\anaconda3\\lib\\site-packages (from matplotlib->filterpy->facexlib) (0.11.0)\n",
      "Requirement already satisfied: fonttools>=4.22.0 in c:\\users\\y\\anaconda3\\lib\\site-packages (from matplotlib->filterpy->facexlib) (4.51.0)\n",
      "Requirement already satisfied: kiwisolver>=1.3.1 in c:\\users\\y\\anaconda3\\lib\\site-packages (from matplotlib->filterpy->facexlib) (1.4.4)\n",
      "Requirement already satisfied: pyparsing>=2.3.1 in c:\\users\\y\\anaconda3\\lib\\site-packages (from matplotlib->filterpy->facexlib) (3.1.2)\n",
      "Requirement already satisfied: python-dateutil>=2.7 in c:\\users\\y\\anaconda3\\lib\\site-packages (from matplotlib->filterpy->facexlib) (2.9.0.post0)\n",
      "Requirement already satisfied: gfpgan in c:\\users\\y\\anaconda3\\lib\\site-packages (1.3.8)\n",
      "Requirement already satisfied: basicsr>=1.4.2 in c:\\users\\y\\anaconda3\\lib\\site-packages (from gfpgan) (1.4.2)\n",
      "Requirement already satisfied: facexlib>=0.2.5 in c:\\users\\y\\anaconda3\\lib\\site-packages (from gfpgan) (0.3.0)\n",
      "Requirement already satisfied: lmdb in c:\\users\\y\\anaconda3\\lib\\site-packages (from gfpgan) (1.4.1)\n",
      "Requirement already satisfied: numpy in c:\\users\\y\\anaconda3\\lib\\site-packages (from gfpgan) (1.26.4)\n",
      "Requirement already satisfied: opencv-python in c:\\users\\y\\anaconda3\\lib\\site-packages (from gfpgan) (4.11.0.86)\n",
      "Requirement already satisfied: pyyaml in c:\\users\\y\\anaconda3\\lib\\site-packages (from gfpgan) (6.0.1)\n",
      "Requirement already satisfied: scipy in c:\\users\\y\\anaconda3\\lib\\site-packages (from gfpgan) (1.13.1)\n",
      "Requirement already satisfied: tb-nightly in c:\\users\\y\\anaconda3\\lib\\site-packages (from gfpgan) (2.20.0a20250510)\n",
      "Requirement already satisfied: torch>=1.7 in c:\\users\\y\\anaconda3\\lib\\site-packages (from gfpgan) (2.6.0+cu118)\n",
      "Requirement already satisfied: torchvision in c:\\users\\y\\anaconda3\\lib\\site-packages (from gfpgan) (0.21.0+cu118)\n",
      "Requirement already satisfied: tqdm in c:\\users\\y\\anaconda3\\lib\\site-packages (from gfpgan) (4.66.5)\n",
      "Requirement already satisfied: yapf in c:\\users\\y\\anaconda3\\lib\\site-packages (from gfpgan) (0.40.2)\n",
      "Requirement already satisfied: addict in c:\\users\\y\\anaconda3\\lib\\site-packages (from basicsr>=1.4.2->gfpgan) (2.4.0)\n",
      "Requirement already satisfied: future in c:\\users\\y\\anaconda3\\lib\\site-packages (from basicsr>=1.4.2->gfpgan) (1.0.0)\n",
      "Requirement already satisfied: Pillow in c:\\users\\y\\anaconda3\\lib\\site-packages (from basicsr>=1.4.2->gfpgan) (10.4.0)\n",
      "Requirement already satisfied: requests in c:\\users\\y\\anaconda3\\lib\\site-packages (from basicsr>=1.4.2->gfpgan) (2.32.3)\n",
      "Requirement already satisfied: scikit-image in c:\\users\\y\\anaconda3\\lib\\site-packages (from basicsr>=1.4.2->gfpgan) (0.24.0)\n",
      "Requirement already satisfied: filterpy in c:\\users\\y\\anaconda3\\lib\\site-packages (from facexlib>=0.2.5->gfpgan) (1.4.5)\n",
      "Requirement already satisfied: numba in c:\\users\\y\\anaconda3\\lib\\site-packages (from facexlib>=0.2.5->gfpgan) (0.60.0)\n",
      "Requirement already satisfied: filelock in c:\\users\\y\\anaconda3\\lib\\site-packages (from torch>=1.7->gfpgan) (3.13.1)\n",
      "Requirement already satisfied: typing-extensions>=4.10.0 in c:\\users\\y\\anaconda3\\lib\\site-packages (from torch>=1.7->gfpgan) (4.11.0)\n",
      "Requirement already satisfied: networkx in c:\\users\\y\\anaconda3\\lib\\site-packages (from torch>=1.7->gfpgan) (3.1)\n",
      "Requirement already satisfied: jinja2 in c:\\users\\y\\anaconda3\\lib\\site-packages (from torch>=1.7->gfpgan) (3.1.4)\n",
      "Requirement already satisfied: fsspec in c:\\users\\y\\anaconda3\\lib\\site-packages (from torch>=1.7->gfpgan) (2024.6.1)\n",
      "Requirement already satisfied: setuptools in c:\\users\\y\\anaconda3\\lib\\site-packages (from torch>=1.7->gfpgan) (75.1.0)\n",
      "Requirement already satisfied: sympy==1.13.1 in c:\\users\\y\\anaconda3\\lib\\site-packages (from torch>=1.7->gfpgan) (1.13.1)\n",
      "Requirement already satisfied: mpmath<1.4,>=1.1.0 in c:\\users\\y\\anaconda3\\lib\\site-packages (from sympy==1.13.1->torch>=1.7->gfpgan) (1.3.0)\n",
      "Requirement already satisfied: absl-py>=0.4 in c:\\users\\y\\anaconda3\\lib\\site-packages (from tb-nightly->gfpgan) (2.2.2)\n",
      "Requirement already satisfied: grpcio>=1.48.2 in c:\\users\\y\\anaconda3\\lib\\site-packages (from tb-nightly->gfpgan) (1.71.0)\n",
      "Requirement already satisfied: markdown>=2.6.8 in c:\\users\\y\\anaconda3\\lib\\site-packages (from tb-nightly->gfpgan) (3.4.1)\n",
      "Requirement already satisfied: packaging in c:\\users\\y\\anaconda3\\lib\\site-packages (from tb-nightly->gfpgan) (24.1)\n",
      "Requirement already satisfied: protobuf!=4.24.0,>=3.19.6 in c:\\users\\y\\anaconda3\\lib\\site-packages (from tb-nightly->gfpgan) (4.25.3)\n",
      "Requirement already satisfied: six>1.9 in c:\\users\\y\\anaconda3\\lib\\site-packages (from tb-nightly->gfpgan) (1.16.0)\n",
      "Requirement already satisfied: tensorboard-data-server<0.8.0,>=0.7.0 in c:\\users\\y\\anaconda3\\lib\\site-packages (from tb-nightly->gfpgan) (0.7.2)\n",
      "Requirement already satisfied: werkzeug>=1.0.1 in c:\\users\\y\\anaconda3\\lib\\site-packages (from tb-nightly->gfpgan) (3.0.3)\n",
      "Requirement already satisfied: colorama in c:\\users\\y\\anaconda3\\lib\\site-packages (from tqdm->gfpgan) (0.4.6)\n",
      "Requirement already satisfied: importlib-metadata>=6.6.0 in c:\\users\\y\\anaconda3\\lib\\site-packages (from yapf->gfpgan) (7.0.1)\n",
      "Requirement already satisfied: platformdirs>=3.5.1 in c:\\users\\y\\anaconda3\\lib\\site-packages (from yapf->gfpgan) (3.10.0)\n",
      "Requirement already satisfied: tomli>=2.0.1 in c:\\users\\y\\anaconda3\\lib\\site-packages (from yapf->gfpgan) (2.0.1)\n",
      "Requirement already satisfied: zipp>=0.5 in c:\\users\\y\\anaconda3\\lib\\site-packages (from importlib-metadata>=6.6.0->yapf->gfpgan) (3.17.0)\n",
      "Requirement already satisfied: MarkupSafe>=2.1.1 in c:\\users\\y\\anaconda3\\lib\\site-packages (from werkzeug>=1.0.1->tb-nightly->gfpgan) (2.1.3)\n",
      "Requirement already satisfied: matplotlib in c:\\users\\y\\anaconda3\\lib\\site-packages (from filterpy->facexlib>=0.2.5->gfpgan) (3.9.2)\n",
      "Requirement already satisfied: llvmlite<0.44,>=0.43.0dev0 in c:\\users\\y\\anaconda3\\lib\\site-packages (from numba->facexlib>=0.2.5->gfpgan) (0.43.0)\n",
      "Requirement already satisfied: charset-normalizer<4,>=2 in c:\\users\\y\\anaconda3\\lib\\site-packages (from requests->basicsr>=1.4.2->gfpgan) (3.3.2)\n",
      "Requirement already satisfied: idna<4,>=2.5 in c:\\users\\y\\anaconda3\\lib\\site-packages (from requests->basicsr>=1.4.2->gfpgan) (3.7)\n",
      "Requirement already satisfied: urllib3<3,>=1.21.1 in c:\\users\\y\\anaconda3\\lib\\site-packages (from requests->basicsr>=1.4.2->gfpgan) (2.2.3)\n",
      "Requirement already satisfied: certifi>=2017.4.17 in c:\\users\\y\\anaconda3\\lib\\site-packages (from requests->basicsr>=1.4.2->gfpgan) (2024.8.30)\n",
      "Requirement already satisfied: imageio>=2.33 in c:\\users\\y\\anaconda3\\lib\\site-packages (from scikit-image->basicsr>=1.4.2->gfpgan) (2.33.1)\n",
      "Requirement already satisfied: tifffile>=2022.8.12 in c:\\users\\y\\anaconda3\\lib\\site-packages (from scikit-image->basicsr>=1.4.2->gfpgan) (2023.4.12)\n",
      "Requirement already satisfied: lazy-loader>=0.4 in c:\\users\\y\\anaconda3\\lib\\site-packages (from scikit-image->basicsr>=1.4.2->gfpgan) (0.4)\n",
      "Requirement already satisfied: contourpy>=1.0.1 in c:\\users\\y\\anaconda3\\lib\\site-packages (from matplotlib->filterpy->facexlib>=0.2.5->gfpgan) (1.2.0)\n",
      "Requirement already satisfied: cycler>=0.10 in c:\\users\\y\\anaconda3\\lib\\site-packages (from matplotlib->filterpy->facexlib>=0.2.5->gfpgan) (0.11.0)\n",
      "Requirement already satisfied: fonttools>=4.22.0 in c:\\users\\y\\anaconda3\\lib\\site-packages (from matplotlib->filterpy->facexlib>=0.2.5->gfpgan) (4.51.0)\n",
      "Requirement already satisfied: kiwisolver>=1.3.1 in c:\\users\\y\\anaconda3\\lib\\site-packages (from matplotlib->filterpy->facexlib>=0.2.5->gfpgan) (1.4.4)\n",
      "Requirement already satisfied: pyparsing>=2.3.1 in c:\\users\\y\\anaconda3\\lib\\site-packages (from matplotlib->filterpy->facexlib>=0.2.5->gfpgan) (3.1.2)\n",
      "Requirement already satisfied: python-dateutil>=2.7 in c:\\users\\y\\anaconda3\\lib\\site-packages (from matplotlib->filterpy->facexlib>=0.2.5->gfpgan) (2.9.0.post0)\n",
      "Requirement already satisfied: pathos in c:\\users\\y\\anaconda3\\lib\\site-packages (0.3.4)\n",
      "Requirement already satisfied: ppft>=1.7.7 in c:\\users\\y\\anaconda3\\lib\\site-packages (from pathos) (1.7.7)\n",
      "Requirement already satisfied: dill>=0.4.0 in c:\\users\\y\\anaconda3\\lib\\site-packages (from pathos) (0.4.0)\n",
      "Requirement already satisfied: pox>=0.3.6 in c:\\users\\y\\anaconda3\\lib\\site-packages (from pathos) (0.3.6)\n",
      "Requirement already satisfied: multiprocess>=0.70.18 in c:\\users\\y\\anaconda3\\lib\\site-packages (from pathos) (0.70.18)\n",
      "Requirement already satisfied: psutil in c:\\users\\y\\anaconda3\\lib\\site-packages (5.9.0)\n",
      "Requirement already satisfied: onnx in c:\\users\\y\\anaconda3\\lib\\site-packages (1.17.0)\n",
      "Requirement already satisfied: numpy>=1.20 in c:\\users\\y\\anaconda3\\lib\\site-packages (from onnx) (1.26.4)\n",
      "Requirement already satisfied: protobuf>=3.20.2 in c:\\users\\y\\anaconda3\\lib\\site-packages (from onnx) (4.25.3)\n"
     ]
    }
   ],
   "source": [
    "# run and install the below dependencies\n",
    "!pip install facexlib basicsr\n",
    "!pip install gfpgan\n",
    "!pip install psutil\n",
    "!pip install onnx\n"
   ]
  },
  {
   "cell_type": "code",
   "execution_count": null,
   "metadata": {
    "_cell_guid": "b1076dfc-b9ad-4769-8c92-a6c4dae69d19",
    "_uuid": "8f2839f25d086af736a60e9eeb907d3b93b6e0e5",
    "collapsed": true,
    "execution": {
     "iopub.execute_input": "2025-05-09T21:32:00.114272Z",
     "iopub.status.busy": "2025-05-09T21:32:00.113968Z",
     "iopub.status.idle": "2025-05-09T21:32:17.765817Z",
     "shell.execute_reply": "2025-05-09T21:32:17.764812Z",
     "shell.execute_reply.started": "2025-05-09T21:32:00.114246Z"
    },
    "jupyter": {
     "outputs_hidden": true
    },
    "trusted": true
   },
   "outputs": [],
   "source": [
    "# dependencies and set the directories for dataset\n",
    "import sys\n",
    "sys.path.append('/kaggle/working/ESRGAN')\n",
    "import torch\n",
    "from PIL import Image\n",
    "import torchvision.transforms as transforms\n",
    "import numpy as np\n",
    "import matplotlib.pyplot as plt\n",
    "from RRDBNet_arch import RRDBNet\n",
    "import os\n",
    "from pathlib import Path\n",
    "\n",
    "cwd = os.getcwd()\n",
    "\n",
    "input_root = Path(cwd+'/data/input/animals')\n",
    "output_root = Path(cwd+'/data/output')\n",
    "output_root.mkdir(parents=True, exist_ok=True)\n",
    "\n"
   ]
  },
  {
   "cell_type": "code",
   "execution_count": null,
   "metadata": {
    "collapsed": true,
    "execution": {
     "iopub.execute_input": "2025-05-09T21:32:40.351330Z",
     "iopub.status.busy": "2025-05-09T21:32:40.350936Z",
     "iopub.status.idle": "2025-05-09T21:32:41.375174Z",
     "shell.execute_reply": "2025-05-09T21:32:41.374058Z",
     "shell.execute_reply.started": "2025-05-09T21:32:40.351303Z"
    },
    "jupyter": {
     "outputs_hidden": true
    },
    "trusted": true
   },
   "outputs": [
    {
     "data": {
      "text/plain": [
       "RRDBNet(\n",
       "  (conv_first): Conv2d(3, 64, kernel_size=(3, 3), stride=(1, 1), padding=(1, 1))\n",
       "  (RRDB_trunk): Sequential(\n",
       "    (0): RRDB(\n",
       "      (RDB1): ResidualDenseBlock_5C(\n",
       "        (conv1): Conv2d(64, 32, kernel_size=(3, 3), stride=(1, 1), padding=(1, 1))\n",
       "        (conv2): Conv2d(96, 32, kernel_size=(3, 3), stride=(1, 1), padding=(1, 1))\n",
       "        (conv3): Conv2d(128, 32, kernel_size=(3, 3), stride=(1, 1), padding=(1, 1))\n",
       "        (conv4): Conv2d(160, 32, kernel_size=(3, 3), stride=(1, 1), padding=(1, 1))\n",
       "        (conv5): Conv2d(192, 64, kernel_size=(3, 3), stride=(1, 1), padding=(1, 1))\n",
       "        (lrelu): LeakyReLU(negative_slope=0.2, inplace=True)\n",
       "      )\n",
       "      (RDB2): ResidualDenseBlock_5C(\n",
       "        (conv1): Conv2d(64, 32, kernel_size=(3, 3), stride=(1, 1), padding=(1, 1))\n",
       "        (conv2): Conv2d(96, 32, kernel_size=(3, 3), stride=(1, 1), padding=(1, 1))\n",
       "        (conv3): Conv2d(128, 32, kernel_size=(3, 3), stride=(1, 1), padding=(1, 1))\n",
       "        (conv4): Conv2d(160, 32, kernel_size=(3, 3), stride=(1, 1), padding=(1, 1))\n",
       "        (conv5): Conv2d(192, 64, kernel_size=(3, 3), stride=(1, 1), padding=(1, 1))\n",
       "        (lrelu): LeakyReLU(negative_slope=0.2, inplace=True)\n",
       "      )\n",
       "      (RDB3): ResidualDenseBlock_5C(\n",
       "        (conv1): Conv2d(64, 32, kernel_size=(3, 3), stride=(1, 1), padding=(1, 1))\n",
       "        (conv2): Conv2d(96, 32, kernel_size=(3, 3), stride=(1, 1), padding=(1, 1))\n",
       "        (conv3): Conv2d(128, 32, kernel_size=(3, 3), stride=(1, 1), padding=(1, 1))\n",
       "        (conv4): Conv2d(160, 32, kernel_size=(3, 3), stride=(1, 1), padding=(1, 1))\n",
       "        (conv5): Conv2d(192, 64, kernel_size=(3, 3), stride=(1, 1), padding=(1, 1))\n",
       "        (lrelu): LeakyReLU(negative_slope=0.2, inplace=True)\n",
       "      )\n",
       "    )\n",
       "    (1): RRDB(\n",
       "      (RDB1): ResidualDenseBlock_5C(\n",
       "        (conv1): Conv2d(64, 32, kernel_size=(3, 3), stride=(1, 1), padding=(1, 1))\n",
       "        (conv2): Conv2d(96, 32, kernel_size=(3, 3), stride=(1, 1), padding=(1, 1))\n",
       "        (conv3): Conv2d(128, 32, kernel_size=(3, 3), stride=(1, 1), padding=(1, 1))\n",
       "        (conv4): Conv2d(160, 32, kernel_size=(3, 3), stride=(1, 1), padding=(1, 1))\n",
       "        (conv5): Conv2d(192, 64, kernel_size=(3, 3), stride=(1, 1), padding=(1, 1))\n",
       "        (lrelu): LeakyReLU(negative_slope=0.2, inplace=True)\n",
       "      )\n",
       "      (RDB2): ResidualDenseBlock_5C(\n",
       "        (conv1): Conv2d(64, 32, kernel_size=(3, 3), stride=(1, 1), padding=(1, 1))\n",
       "        (conv2): Conv2d(96, 32, kernel_size=(3, 3), stride=(1, 1), padding=(1, 1))\n",
       "        (conv3): Conv2d(128, 32, kernel_size=(3, 3), stride=(1, 1), padding=(1, 1))\n",
       "        (conv4): Conv2d(160, 32, kernel_size=(3, 3), stride=(1, 1), padding=(1, 1))\n",
       "        (conv5): Conv2d(192, 64, kernel_size=(3, 3), stride=(1, 1), padding=(1, 1))\n",
       "        (lrelu): LeakyReLU(negative_slope=0.2, inplace=True)\n",
       "      )\n",
       "      (RDB3): ResidualDenseBlock_5C(\n",
       "        (conv1): Conv2d(64, 32, kernel_size=(3, 3), stride=(1, 1), padding=(1, 1))\n",
       "        (conv2): Conv2d(96, 32, kernel_size=(3, 3), stride=(1, 1), padding=(1, 1))\n",
       "        (conv3): Conv2d(128, 32, kernel_size=(3, 3), stride=(1, 1), padding=(1, 1))\n",
       "        (conv4): Conv2d(160, 32, kernel_size=(3, 3), stride=(1, 1), padding=(1, 1))\n",
       "        (conv5): Conv2d(192, 64, kernel_size=(3, 3), stride=(1, 1), padding=(1, 1))\n",
       "        (lrelu): LeakyReLU(negative_slope=0.2, inplace=True)\n",
       "      )\n",
       "    )\n",
       "    (2): RRDB(\n",
       "      (RDB1): ResidualDenseBlock_5C(\n",
       "        (conv1): Conv2d(64, 32, kernel_size=(3, 3), stride=(1, 1), padding=(1, 1))\n",
       "        (conv2): Conv2d(96, 32, kernel_size=(3, 3), stride=(1, 1), padding=(1, 1))\n",
       "        (conv3): Conv2d(128, 32, kernel_size=(3, 3), stride=(1, 1), padding=(1, 1))\n",
       "        (conv4): Conv2d(160, 32, kernel_size=(3, 3), stride=(1, 1), padding=(1, 1))\n",
       "        (conv5): Conv2d(192, 64, kernel_size=(3, 3), stride=(1, 1), padding=(1, 1))\n",
       "        (lrelu): LeakyReLU(negative_slope=0.2, inplace=True)\n",
       "      )\n",
       "      (RDB2): ResidualDenseBlock_5C(\n",
       "        (conv1): Conv2d(64, 32, kernel_size=(3, 3), stride=(1, 1), padding=(1, 1))\n",
       "        (conv2): Conv2d(96, 32, kernel_size=(3, 3), stride=(1, 1), padding=(1, 1))\n",
       "        (conv3): Conv2d(128, 32, kernel_size=(3, 3), stride=(1, 1), padding=(1, 1))\n",
       "        (conv4): Conv2d(160, 32, kernel_size=(3, 3), stride=(1, 1), padding=(1, 1))\n",
       "        (conv5): Conv2d(192, 64, kernel_size=(3, 3), stride=(1, 1), padding=(1, 1))\n",
       "        (lrelu): LeakyReLU(negative_slope=0.2, inplace=True)\n",
       "      )\n",
       "      (RDB3): ResidualDenseBlock_5C(\n",
       "        (conv1): Conv2d(64, 32, kernel_size=(3, 3), stride=(1, 1), padding=(1, 1))\n",
       "        (conv2): Conv2d(96, 32, kernel_size=(3, 3), stride=(1, 1), padding=(1, 1))\n",
       "        (conv3): Conv2d(128, 32, kernel_size=(3, 3), stride=(1, 1), padding=(1, 1))\n",
       "        (conv4): Conv2d(160, 32, kernel_size=(3, 3), stride=(1, 1), padding=(1, 1))\n",
       "        (conv5): Conv2d(192, 64, kernel_size=(3, 3), stride=(1, 1), padding=(1, 1))\n",
       "        (lrelu): LeakyReLU(negative_slope=0.2, inplace=True)\n",
       "      )\n",
       "    )\n",
       "    (3): RRDB(\n",
       "      (RDB1): ResidualDenseBlock_5C(\n",
       "        (conv1): Conv2d(64, 32, kernel_size=(3, 3), stride=(1, 1), padding=(1, 1))\n",
       "        (conv2): Conv2d(96, 32, kernel_size=(3, 3), stride=(1, 1), padding=(1, 1))\n",
       "        (conv3): Conv2d(128, 32, kernel_size=(3, 3), stride=(1, 1), padding=(1, 1))\n",
       "        (conv4): Conv2d(160, 32, kernel_size=(3, 3), stride=(1, 1), padding=(1, 1))\n",
       "        (conv5): Conv2d(192, 64, kernel_size=(3, 3), stride=(1, 1), padding=(1, 1))\n",
       "        (lrelu): LeakyReLU(negative_slope=0.2, inplace=True)\n",
       "      )\n",
       "      (RDB2): ResidualDenseBlock_5C(\n",
       "        (conv1): Conv2d(64, 32, kernel_size=(3, 3), stride=(1, 1), padding=(1, 1))\n",
       "        (conv2): Conv2d(96, 32, kernel_size=(3, 3), stride=(1, 1), padding=(1, 1))\n",
       "        (conv3): Conv2d(128, 32, kernel_size=(3, 3), stride=(1, 1), padding=(1, 1))\n",
       "        (conv4): Conv2d(160, 32, kernel_size=(3, 3), stride=(1, 1), padding=(1, 1))\n",
       "        (conv5): Conv2d(192, 64, kernel_size=(3, 3), stride=(1, 1), padding=(1, 1))\n",
       "        (lrelu): LeakyReLU(negative_slope=0.2, inplace=True)\n",
       "      )\n",
       "      (RDB3): ResidualDenseBlock_5C(\n",
       "        (conv1): Conv2d(64, 32, kernel_size=(3, 3), stride=(1, 1), padding=(1, 1))\n",
       "        (conv2): Conv2d(96, 32, kernel_size=(3, 3), stride=(1, 1), padding=(1, 1))\n",
       "        (conv3): Conv2d(128, 32, kernel_size=(3, 3), stride=(1, 1), padding=(1, 1))\n",
       "        (conv4): Conv2d(160, 32, kernel_size=(3, 3), stride=(1, 1), padding=(1, 1))\n",
       "        (conv5): Conv2d(192, 64, kernel_size=(3, 3), stride=(1, 1), padding=(1, 1))\n",
       "        (lrelu): LeakyReLU(negative_slope=0.2, inplace=True)\n",
       "      )\n",
       "    )\n",
       "    (4): RRDB(\n",
       "      (RDB1): ResidualDenseBlock_5C(\n",
       "        (conv1): Conv2d(64, 32, kernel_size=(3, 3), stride=(1, 1), padding=(1, 1))\n",
       "        (conv2): Conv2d(96, 32, kernel_size=(3, 3), stride=(1, 1), padding=(1, 1))\n",
       "        (conv3): Conv2d(128, 32, kernel_size=(3, 3), stride=(1, 1), padding=(1, 1))\n",
       "        (conv4): Conv2d(160, 32, kernel_size=(3, 3), stride=(1, 1), padding=(1, 1))\n",
       "        (conv5): Conv2d(192, 64, kernel_size=(3, 3), stride=(1, 1), padding=(1, 1))\n",
       "        (lrelu): LeakyReLU(negative_slope=0.2, inplace=True)\n",
       "      )\n",
       "      (RDB2): ResidualDenseBlock_5C(\n",
       "        (conv1): Conv2d(64, 32, kernel_size=(3, 3), stride=(1, 1), padding=(1, 1))\n",
       "        (conv2): Conv2d(96, 32, kernel_size=(3, 3), stride=(1, 1), padding=(1, 1))\n",
       "        (conv3): Conv2d(128, 32, kernel_size=(3, 3), stride=(1, 1), padding=(1, 1))\n",
       "        (conv4): Conv2d(160, 32, kernel_size=(3, 3), stride=(1, 1), padding=(1, 1))\n",
       "        (conv5): Conv2d(192, 64, kernel_size=(3, 3), stride=(1, 1), padding=(1, 1))\n",
       "        (lrelu): LeakyReLU(negative_slope=0.2, inplace=True)\n",
       "      )\n",
       "      (RDB3): ResidualDenseBlock_5C(\n",
       "        (conv1): Conv2d(64, 32, kernel_size=(3, 3), stride=(1, 1), padding=(1, 1))\n",
       "        (conv2): Conv2d(96, 32, kernel_size=(3, 3), stride=(1, 1), padding=(1, 1))\n",
       "        (conv3): Conv2d(128, 32, kernel_size=(3, 3), stride=(1, 1), padding=(1, 1))\n",
       "        (conv4): Conv2d(160, 32, kernel_size=(3, 3), stride=(1, 1), padding=(1, 1))\n",
       "        (conv5): Conv2d(192, 64, kernel_size=(3, 3), stride=(1, 1), padding=(1, 1))\n",
       "        (lrelu): LeakyReLU(negative_slope=0.2, inplace=True)\n",
       "      )\n",
       "    )\n",
       "    (5): RRDB(\n",
       "      (RDB1): ResidualDenseBlock_5C(\n",
       "        (conv1): Conv2d(64, 32, kernel_size=(3, 3), stride=(1, 1), padding=(1, 1))\n",
       "        (conv2): Conv2d(96, 32, kernel_size=(3, 3), stride=(1, 1), padding=(1, 1))\n",
       "        (conv3): Conv2d(128, 32, kernel_size=(3, 3), stride=(1, 1), padding=(1, 1))\n",
       "        (conv4): Conv2d(160, 32, kernel_size=(3, 3), stride=(1, 1), padding=(1, 1))\n",
       "        (conv5): Conv2d(192, 64, kernel_size=(3, 3), stride=(1, 1), padding=(1, 1))\n",
       "        (lrelu): LeakyReLU(negative_slope=0.2, inplace=True)\n",
       "      )\n",
       "      (RDB2): ResidualDenseBlock_5C(\n",
       "        (conv1): Conv2d(64, 32, kernel_size=(3, 3), stride=(1, 1), padding=(1, 1))\n",
       "        (conv2): Conv2d(96, 32, kernel_size=(3, 3), stride=(1, 1), padding=(1, 1))\n",
       "        (conv3): Conv2d(128, 32, kernel_size=(3, 3), stride=(1, 1), padding=(1, 1))\n",
       "        (conv4): Conv2d(160, 32, kernel_size=(3, 3), stride=(1, 1), padding=(1, 1))\n",
       "        (conv5): Conv2d(192, 64, kernel_size=(3, 3), stride=(1, 1), padding=(1, 1))\n",
       "        (lrelu): LeakyReLU(negative_slope=0.2, inplace=True)\n",
       "      )\n",
       "      (RDB3): ResidualDenseBlock_5C(\n",
       "        (conv1): Conv2d(64, 32, kernel_size=(3, 3), stride=(1, 1), padding=(1, 1))\n",
       "        (conv2): Conv2d(96, 32, kernel_size=(3, 3), stride=(1, 1), padding=(1, 1))\n",
       "        (conv3): Conv2d(128, 32, kernel_size=(3, 3), stride=(1, 1), padding=(1, 1))\n",
       "        (conv4): Conv2d(160, 32, kernel_size=(3, 3), stride=(1, 1), padding=(1, 1))\n",
       "        (conv5): Conv2d(192, 64, kernel_size=(3, 3), stride=(1, 1), padding=(1, 1))\n",
       "        (lrelu): LeakyReLU(negative_slope=0.2, inplace=True)\n",
       "      )\n",
       "    )\n",
       "    (6): RRDB(\n",
       "      (RDB1): ResidualDenseBlock_5C(\n",
       "        (conv1): Conv2d(64, 32, kernel_size=(3, 3), stride=(1, 1), padding=(1, 1))\n",
       "        (conv2): Conv2d(96, 32, kernel_size=(3, 3), stride=(1, 1), padding=(1, 1))\n",
       "        (conv3): Conv2d(128, 32, kernel_size=(3, 3), stride=(1, 1), padding=(1, 1))\n",
       "        (conv4): Conv2d(160, 32, kernel_size=(3, 3), stride=(1, 1), padding=(1, 1))\n",
       "        (conv5): Conv2d(192, 64, kernel_size=(3, 3), stride=(1, 1), padding=(1, 1))\n",
       "        (lrelu): LeakyReLU(negative_slope=0.2, inplace=True)\n",
       "      )\n",
       "      (RDB2): ResidualDenseBlock_5C(\n",
       "        (conv1): Conv2d(64, 32, kernel_size=(3, 3), stride=(1, 1), padding=(1, 1))\n",
       "        (conv2): Conv2d(96, 32, kernel_size=(3, 3), stride=(1, 1), padding=(1, 1))\n",
       "        (conv3): Conv2d(128, 32, kernel_size=(3, 3), stride=(1, 1), padding=(1, 1))\n",
       "        (conv4): Conv2d(160, 32, kernel_size=(3, 3), stride=(1, 1), padding=(1, 1))\n",
       "        (conv5): Conv2d(192, 64, kernel_size=(3, 3), stride=(1, 1), padding=(1, 1))\n",
       "        (lrelu): LeakyReLU(negative_slope=0.2, inplace=True)\n",
       "      )\n",
       "      (RDB3): ResidualDenseBlock_5C(\n",
       "        (conv1): Conv2d(64, 32, kernel_size=(3, 3), stride=(1, 1), padding=(1, 1))\n",
       "        (conv2): Conv2d(96, 32, kernel_size=(3, 3), stride=(1, 1), padding=(1, 1))\n",
       "        (conv3): Conv2d(128, 32, kernel_size=(3, 3), stride=(1, 1), padding=(1, 1))\n",
       "        (conv4): Conv2d(160, 32, kernel_size=(3, 3), stride=(1, 1), padding=(1, 1))\n",
       "        (conv5): Conv2d(192, 64, kernel_size=(3, 3), stride=(1, 1), padding=(1, 1))\n",
       "        (lrelu): LeakyReLU(negative_slope=0.2, inplace=True)\n",
       "      )\n",
       "    )\n",
       "    (7): RRDB(\n",
       "      (RDB1): ResidualDenseBlock_5C(\n",
       "        (conv1): Conv2d(64, 32, kernel_size=(3, 3), stride=(1, 1), padding=(1, 1))\n",
       "        (conv2): Conv2d(96, 32, kernel_size=(3, 3), stride=(1, 1), padding=(1, 1))\n",
       "        (conv3): Conv2d(128, 32, kernel_size=(3, 3), stride=(1, 1), padding=(1, 1))\n",
       "        (conv4): Conv2d(160, 32, kernel_size=(3, 3), stride=(1, 1), padding=(1, 1))\n",
       "        (conv5): Conv2d(192, 64, kernel_size=(3, 3), stride=(1, 1), padding=(1, 1))\n",
       "        (lrelu): LeakyReLU(negative_slope=0.2, inplace=True)\n",
       "      )\n",
       "      (RDB2): ResidualDenseBlock_5C(\n",
       "        (conv1): Conv2d(64, 32, kernel_size=(3, 3), stride=(1, 1), padding=(1, 1))\n",
       "        (conv2): Conv2d(96, 32, kernel_size=(3, 3), stride=(1, 1), padding=(1, 1))\n",
       "        (conv3): Conv2d(128, 32, kernel_size=(3, 3), stride=(1, 1), padding=(1, 1))\n",
       "        (conv4): Conv2d(160, 32, kernel_size=(3, 3), stride=(1, 1), padding=(1, 1))\n",
       "        (conv5): Conv2d(192, 64, kernel_size=(3, 3), stride=(1, 1), padding=(1, 1))\n",
       "        (lrelu): LeakyReLU(negative_slope=0.2, inplace=True)\n",
       "      )\n",
       "      (RDB3): ResidualDenseBlock_5C(\n",
       "        (conv1): Conv2d(64, 32, kernel_size=(3, 3), stride=(1, 1), padding=(1, 1))\n",
       "        (conv2): Conv2d(96, 32, kernel_size=(3, 3), stride=(1, 1), padding=(1, 1))\n",
       "        (conv3): Conv2d(128, 32, kernel_size=(3, 3), stride=(1, 1), padding=(1, 1))\n",
       "        (conv4): Conv2d(160, 32, kernel_size=(3, 3), stride=(1, 1), padding=(1, 1))\n",
       "        (conv5): Conv2d(192, 64, kernel_size=(3, 3), stride=(1, 1), padding=(1, 1))\n",
       "        (lrelu): LeakyReLU(negative_slope=0.2, inplace=True)\n",
       "      )\n",
       "    )\n",
       "    (8): RRDB(\n",
       "      (RDB1): ResidualDenseBlock_5C(\n",
       "        (conv1): Conv2d(64, 32, kernel_size=(3, 3), stride=(1, 1), padding=(1, 1))\n",
       "        (conv2): Conv2d(96, 32, kernel_size=(3, 3), stride=(1, 1), padding=(1, 1))\n",
       "        (conv3): Conv2d(128, 32, kernel_size=(3, 3), stride=(1, 1), padding=(1, 1))\n",
       "        (conv4): Conv2d(160, 32, kernel_size=(3, 3), stride=(1, 1), padding=(1, 1))\n",
       "        (conv5): Conv2d(192, 64, kernel_size=(3, 3), stride=(1, 1), padding=(1, 1))\n",
       "        (lrelu): LeakyReLU(negative_slope=0.2, inplace=True)\n",
       "      )\n",
       "      (RDB2): ResidualDenseBlock_5C(\n",
       "        (conv1): Conv2d(64, 32, kernel_size=(3, 3), stride=(1, 1), padding=(1, 1))\n",
       "        (conv2): Conv2d(96, 32, kernel_size=(3, 3), stride=(1, 1), padding=(1, 1))\n",
       "        (conv3): Conv2d(128, 32, kernel_size=(3, 3), stride=(1, 1), padding=(1, 1))\n",
       "        (conv4): Conv2d(160, 32, kernel_size=(3, 3), stride=(1, 1), padding=(1, 1))\n",
       "        (conv5): Conv2d(192, 64, kernel_size=(3, 3), stride=(1, 1), padding=(1, 1))\n",
       "        (lrelu): LeakyReLU(negative_slope=0.2, inplace=True)\n",
       "      )\n",
       "      (RDB3): ResidualDenseBlock_5C(\n",
       "        (conv1): Conv2d(64, 32, kernel_size=(3, 3), stride=(1, 1), padding=(1, 1))\n",
       "        (conv2): Conv2d(96, 32, kernel_size=(3, 3), stride=(1, 1), padding=(1, 1))\n",
       "        (conv3): Conv2d(128, 32, kernel_size=(3, 3), stride=(1, 1), padding=(1, 1))\n",
       "        (conv4): Conv2d(160, 32, kernel_size=(3, 3), stride=(1, 1), padding=(1, 1))\n",
       "        (conv5): Conv2d(192, 64, kernel_size=(3, 3), stride=(1, 1), padding=(1, 1))\n",
       "        (lrelu): LeakyReLU(negative_slope=0.2, inplace=True)\n",
       "      )\n",
       "    )\n",
       "    (9): RRDB(\n",
       "      (RDB1): ResidualDenseBlock_5C(\n",
       "        (conv1): Conv2d(64, 32, kernel_size=(3, 3), stride=(1, 1), padding=(1, 1))\n",
       "        (conv2): Conv2d(96, 32, kernel_size=(3, 3), stride=(1, 1), padding=(1, 1))\n",
       "        (conv3): Conv2d(128, 32, kernel_size=(3, 3), stride=(1, 1), padding=(1, 1))\n",
       "        (conv4): Conv2d(160, 32, kernel_size=(3, 3), stride=(1, 1), padding=(1, 1))\n",
       "        (conv5): Conv2d(192, 64, kernel_size=(3, 3), stride=(1, 1), padding=(1, 1))\n",
       "        (lrelu): LeakyReLU(negative_slope=0.2, inplace=True)\n",
       "      )\n",
       "      (RDB2): ResidualDenseBlock_5C(\n",
       "        (conv1): Conv2d(64, 32, kernel_size=(3, 3), stride=(1, 1), padding=(1, 1))\n",
       "        (conv2): Conv2d(96, 32, kernel_size=(3, 3), stride=(1, 1), padding=(1, 1))\n",
       "        (conv3): Conv2d(128, 32, kernel_size=(3, 3), stride=(1, 1), padding=(1, 1))\n",
       "        (conv4): Conv2d(160, 32, kernel_size=(3, 3), stride=(1, 1), padding=(1, 1))\n",
       "        (conv5): Conv2d(192, 64, kernel_size=(3, 3), stride=(1, 1), padding=(1, 1))\n",
       "        (lrelu): LeakyReLU(negative_slope=0.2, inplace=True)\n",
       "      )\n",
       "      (RDB3): ResidualDenseBlock_5C(\n",
       "        (conv1): Conv2d(64, 32, kernel_size=(3, 3), stride=(1, 1), padding=(1, 1))\n",
       "        (conv2): Conv2d(96, 32, kernel_size=(3, 3), stride=(1, 1), padding=(1, 1))\n",
       "        (conv3): Conv2d(128, 32, kernel_size=(3, 3), stride=(1, 1), padding=(1, 1))\n",
       "        (conv4): Conv2d(160, 32, kernel_size=(3, 3), stride=(1, 1), padding=(1, 1))\n",
       "        (conv5): Conv2d(192, 64, kernel_size=(3, 3), stride=(1, 1), padding=(1, 1))\n",
       "        (lrelu): LeakyReLU(negative_slope=0.2, inplace=True)\n",
       "      )\n",
       "    )\n",
       "    (10): RRDB(\n",
       "      (RDB1): ResidualDenseBlock_5C(\n",
       "        (conv1): Conv2d(64, 32, kernel_size=(3, 3), stride=(1, 1), padding=(1, 1))\n",
       "        (conv2): Conv2d(96, 32, kernel_size=(3, 3), stride=(1, 1), padding=(1, 1))\n",
       "        (conv3): Conv2d(128, 32, kernel_size=(3, 3), stride=(1, 1), padding=(1, 1))\n",
       "        (conv4): Conv2d(160, 32, kernel_size=(3, 3), stride=(1, 1), padding=(1, 1))\n",
       "        (conv5): Conv2d(192, 64, kernel_size=(3, 3), stride=(1, 1), padding=(1, 1))\n",
       "        (lrelu): LeakyReLU(negative_slope=0.2, inplace=True)\n",
       "      )\n",
       "      (RDB2): ResidualDenseBlock_5C(\n",
       "        (conv1): Conv2d(64, 32, kernel_size=(3, 3), stride=(1, 1), padding=(1, 1))\n",
       "        (conv2): Conv2d(96, 32, kernel_size=(3, 3), stride=(1, 1), padding=(1, 1))\n",
       "        (conv3): Conv2d(128, 32, kernel_size=(3, 3), stride=(1, 1), padding=(1, 1))\n",
       "        (conv4): Conv2d(160, 32, kernel_size=(3, 3), stride=(1, 1), padding=(1, 1))\n",
       "        (conv5): Conv2d(192, 64, kernel_size=(3, 3), stride=(1, 1), padding=(1, 1))\n",
       "        (lrelu): LeakyReLU(negative_slope=0.2, inplace=True)\n",
       "      )\n",
       "      (RDB3): ResidualDenseBlock_5C(\n",
       "        (conv1): Conv2d(64, 32, kernel_size=(3, 3), stride=(1, 1), padding=(1, 1))\n",
       "        (conv2): Conv2d(96, 32, kernel_size=(3, 3), stride=(1, 1), padding=(1, 1))\n",
       "        (conv3): Conv2d(128, 32, kernel_size=(3, 3), stride=(1, 1), padding=(1, 1))\n",
       "        (conv4): Conv2d(160, 32, kernel_size=(3, 3), stride=(1, 1), padding=(1, 1))\n",
       "        (conv5): Conv2d(192, 64, kernel_size=(3, 3), stride=(1, 1), padding=(1, 1))\n",
       "        (lrelu): LeakyReLU(negative_slope=0.2, inplace=True)\n",
       "      )\n",
       "    )\n",
       "    (11): RRDB(\n",
       "      (RDB1): ResidualDenseBlock_5C(\n",
       "        (conv1): Conv2d(64, 32, kernel_size=(3, 3), stride=(1, 1), padding=(1, 1))\n",
       "        (conv2): Conv2d(96, 32, kernel_size=(3, 3), stride=(1, 1), padding=(1, 1))\n",
       "        (conv3): Conv2d(128, 32, kernel_size=(3, 3), stride=(1, 1), padding=(1, 1))\n",
       "        (conv4): Conv2d(160, 32, kernel_size=(3, 3), stride=(1, 1), padding=(1, 1))\n",
       "        (conv5): Conv2d(192, 64, kernel_size=(3, 3), stride=(1, 1), padding=(1, 1))\n",
       "        (lrelu): LeakyReLU(negative_slope=0.2, inplace=True)\n",
       "      )\n",
       "      (RDB2): ResidualDenseBlock_5C(\n",
       "        (conv1): Conv2d(64, 32, kernel_size=(3, 3), stride=(1, 1), padding=(1, 1))\n",
       "        (conv2): Conv2d(96, 32, kernel_size=(3, 3), stride=(1, 1), padding=(1, 1))\n",
       "        (conv3): Conv2d(128, 32, kernel_size=(3, 3), stride=(1, 1), padding=(1, 1))\n",
       "        (conv4): Conv2d(160, 32, kernel_size=(3, 3), stride=(1, 1), padding=(1, 1))\n",
       "        (conv5): Conv2d(192, 64, kernel_size=(3, 3), stride=(1, 1), padding=(1, 1))\n",
       "        (lrelu): LeakyReLU(negative_slope=0.2, inplace=True)\n",
       "      )\n",
       "      (RDB3): ResidualDenseBlock_5C(\n",
       "        (conv1): Conv2d(64, 32, kernel_size=(3, 3), stride=(1, 1), padding=(1, 1))\n",
       "        (conv2): Conv2d(96, 32, kernel_size=(3, 3), stride=(1, 1), padding=(1, 1))\n",
       "        (conv3): Conv2d(128, 32, kernel_size=(3, 3), stride=(1, 1), padding=(1, 1))\n",
       "        (conv4): Conv2d(160, 32, kernel_size=(3, 3), stride=(1, 1), padding=(1, 1))\n",
       "        (conv5): Conv2d(192, 64, kernel_size=(3, 3), stride=(1, 1), padding=(1, 1))\n",
       "        (lrelu): LeakyReLU(negative_slope=0.2, inplace=True)\n",
       "      )\n",
       "    )\n",
       "    (12): RRDB(\n",
       "      (RDB1): ResidualDenseBlock_5C(\n",
       "        (conv1): Conv2d(64, 32, kernel_size=(3, 3), stride=(1, 1), padding=(1, 1))\n",
       "        (conv2): Conv2d(96, 32, kernel_size=(3, 3), stride=(1, 1), padding=(1, 1))\n",
       "        (conv3): Conv2d(128, 32, kernel_size=(3, 3), stride=(1, 1), padding=(1, 1))\n",
       "        (conv4): Conv2d(160, 32, kernel_size=(3, 3), stride=(1, 1), padding=(1, 1))\n",
       "        (conv5): Conv2d(192, 64, kernel_size=(3, 3), stride=(1, 1), padding=(1, 1))\n",
       "        (lrelu): LeakyReLU(negative_slope=0.2, inplace=True)\n",
       "      )\n",
       "      (RDB2): ResidualDenseBlock_5C(\n",
       "        (conv1): Conv2d(64, 32, kernel_size=(3, 3), stride=(1, 1), padding=(1, 1))\n",
       "        (conv2): Conv2d(96, 32, kernel_size=(3, 3), stride=(1, 1), padding=(1, 1))\n",
       "        (conv3): Conv2d(128, 32, kernel_size=(3, 3), stride=(1, 1), padding=(1, 1))\n",
       "        (conv4): Conv2d(160, 32, kernel_size=(3, 3), stride=(1, 1), padding=(1, 1))\n",
       "        (conv5): Conv2d(192, 64, kernel_size=(3, 3), stride=(1, 1), padding=(1, 1))\n",
       "        (lrelu): LeakyReLU(negative_slope=0.2, inplace=True)\n",
       "      )\n",
       "      (RDB3): ResidualDenseBlock_5C(\n",
       "        (conv1): Conv2d(64, 32, kernel_size=(3, 3), stride=(1, 1), padding=(1, 1))\n",
       "        (conv2): Conv2d(96, 32, kernel_size=(3, 3), stride=(1, 1), padding=(1, 1))\n",
       "        (conv3): Conv2d(128, 32, kernel_size=(3, 3), stride=(1, 1), padding=(1, 1))\n",
       "        (conv4): Conv2d(160, 32, kernel_size=(3, 3), stride=(1, 1), padding=(1, 1))\n",
       "        (conv5): Conv2d(192, 64, kernel_size=(3, 3), stride=(1, 1), padding=(1, 1))\n",
       "        (lrelu): LeakyReLU(negative_slope=0.2, inplace=True)\n",
       "      )\n",
       "    )\n",
       "    (13): RRDB(\n",
       "      (RDB1): ResidualDenseBlock_5C(\n",
       "        (conv1): Conv2d(64, 32, kernel_size=(3, 3), stride=(1, 1), padding=(1, 1))\n",
       "        (conv2): Conv2d(96, 32, kernel_size=(3, 3), stride=(1, 1), padding=(1, 1))\n",
       "        (conv3): Conv2d(128, 32, kernel_size=(3, 3), stride=(1, 1), padding=(1, 1))\n",
       "        (conv4): Conv2d(160, 32, kernel_size=(3, 3), stride=(1, 1), padding=(1, 1))\n",
       "        (conv5): Conv2d(192, 64, kernel_size=(3, 3), stride=(1, 1), padding=(1, 1))\n",
       "        (lrelu): LeakyReLU(negative_slope=0.2, inplace=True)\n",
       "      )\n",
       "      (RDB2): ResidualDenseBlock_5C(\n",
       "        (conv1): Conv2d(64, 32, kernel_size=(3, 3), stride=(1, 1), padding=(1, 1))\n",
       "        (conv2): Conv2d(96, 32, kernel_size=(3, 3), stride=(1, 1), padding=(1, 1))\n",
       "        (conv3): Conv2d(128, 32, kernel_size=(3, 3), stride=(1, 1), padding=(1, 1))\n",
       "        (conv4): Conv2d(160, 32, kernel_size=(3, 3), stride=(1, 1), padding=(1, 1))\n",
       "        (conv5): Conv2d(192, 64, kernel_size=(3, 3), stride=(1, 1), padding=(1, 1))\n",
       "        (lrelu): LeakyReLU(negative_slope=0.2, inplace=True)\n",
       "      )\n",
       "      (RDB3): ResidualDenseBlock_5C(\n",
       "        (conv1): Conv2d(64, 32, kernel_size=(3, 3), stride=(1, 1), padding=(1, 1))\n",
       "        (conv2): Conv2d(96, 32, kernel_size=(3, 3), stride=(1, 1), padding=(1, 1))\n",
       "        (conv3): Conv2d(128, 32, kernel_size=(3, 3), stride=(1, 1), padding=(1, 1))\n",
       "        (conv4): Conv2d(160, 32, kernel_size=(3, 3), stride=(1, 1), padding=(1, 1))\n",
       "        (conv5): Conv2d(192, 64, kernel_size=(3, 3), stride=(1, 1), padding=(1, 1))\n",
       "        (lrelu): LeakyReLU(negative_slope=0.2, inplace=True)\n",
       "      )\n",
       "    )\n",
       "    (14): RRDB(\n",
       "      (RDB1): ResidualDenseBlock_5C(\n",
       "        (conv1): Conv2d(64, 32, kernel_size=(3, 3), stride=(1, 1), padding=(1, 1))\n",
       "        (conv2): Conv2d(96, 32, kernel_size=(3, 3), stride=(1, 1), padding=(1, 1))\n",
       "        (conv3): Conv2d(128, 32, kernel_size=(3, 3), stride=(1, 1), padding=(1, 1))\n",
       "        (conv4): Conv2d(160, 32, kernel_size=(3, 3), stride=(1, 1), padding=(1, 1))\n",
       "        (conv5): Conv2d(192, 64, kernel_size=(3, 3), stride=(1, 1), padding=(1, 1))\n",
       "        (lrelu): LeakyReLU(negative_slope=0.2, inplace=True)\n",
       "      )\n",
       "      (RDB2): ResidualDenseBlock_5C(\n",
       "        (conv1): Conv2d(64, 32, kernel_size=(3, 3), stride=(1, 1), padding=(1, 1))\n",
       "        (conv2): Conv2d(96, 32, kernel_size=(3, 3), stride=(1, 1), padding=(1, 1))\n",
       "        (conv3): Conv2d(128, 32, kernel_size=(3, 3), stride=(1, 1), padding=(1, 1))\n",
       "        (conv4): Conv2d(160, 32, kernel_size=(3, 3), stride=(1, 1), padding=(1, 1))\n",
       "        (conv5): Conv2d(192, 64, kernel_size=(3, 3), stride=(1, 1), padding=(1, 1))\n",
       "        (lrelu): LeakyReLU(negative_slope=0.2, inplace=True)\n",
       "      )\n",
       "      (RDB3): ResidualDenseBlock_5C(\n",
       "        (conv1): Conv2d(64, 32, kernel_size=(3, 3), stride=(1, 1), padding=(1, 1))\n",
       "        (conv2): Conv2d(96, 32, kernel_size=(3, 3), stride=(1, 1), padding=(1, 1))\n",
       "        (conv3): Conv2d(128, 32, kernel_size=(3, 3), stride=(1, 1), padding=(1, 1))\n",
       "        (conv4): Conv2d(160, 32, kernel_size=(3, 3), stride=(1, 1), padding=(1, 1))\n",
       "        (conv5): Conv2d(192, 64, kernel_size=(3, 3), stride=(1, 1), padding=(1, 1))\n",
       "        (lrelu): LeakyReLU(negative_slope=0.2, inplace=True)\n",
       "      )\n",
       "    )\n",
       "    (15): RRDB(\n",
       "      (RDB1): ResidualDenseBlock_5C(\n",
       "        (conv1): Conv2d(64, 32, kernel_size=(3, 3), stride=(1, 1), padding=(1, 1))\n",
       "        (conv2): Conv2d(96, 32, kernel_size=(3, 3), stride=(1, 1), padding=(1, 1))\n",
       "        (conv3): Conv2d(128, 32, kernel_size=(3, 3), stride=(1, 1), padding=(1, 1))\n",
       "        (conv4): Conv2d(160, 32, kernel_size=(3, 3), stride=(1, 1), padding=(1, 1))\n",
       "        (conv5): Conv2d(192, 64, kernel_size=(3, 3), stride=(1, 1), padding=(1, 1))\n",
       "        (lrelu): LeakyReLU(negative_slope=0.2, inplace=True)\n",
       "      )\n",
       "      (RDB2): ResidualDenseBlock_5C(\n",
       "        (conv1): Conv2d(64, 32, kernel_size=(3, 3), stride=(1, 1), padding=(1, 1))\n",
       "        (conv2): Conv2d(96, 32, kernel_size=(3, 3), stride=(1, 1), padding=(1, 1))\n",
       "        (conv3): Conv2d(128, 32, kernel_size=(3, 3), stride=(1, 1), padding=(1, 1))\n",
       "        (conv4): Conv2d(160, 32, kernel_size=(3, 3), stride=(1, 1), padding=(1, 1))\n",
       "        (conv5): Conv2d(192, 64, kernel_size=(3, 3), stride=(1, 1), padding=(1, 1))\n",
       "        (lrelu): LeakyReLU(negative_slope=0.2, inplace=True)\n",
       "      )\n",
       "      (RDB3): ResidualDenseBlock_5C(\n",
       "        (conv1): Conv2d(64, 32, kernel_size=(3, 3), stride=(1, 1), padding=(1, 1))\n",
       "        (conv2): Conv2d(96, 32, kernel_size=(3, 3), stride=(1, 1), padding=(1, 1))\n",
       "        (conv3): Conv2d(128, 32, kernel_size=(3, 3), stride=(1, 1), padding=(1, 1))\n",
       "        (conv4): Conv2d(160, 32, kernel_size=(3, 3), stride=(1, 1), padding=(1, 1))\n",
       "        (conv5): Conv2d(192, 64, kernel_size=(3, 3), stride=(1, 1), padding=(1, 1))\n",
       "        (lrelu): LeakyReLU(negative_slope=0.2, inplace=True)\n",
       "      )\n",
       "    )\n",
       "    (16): RRDB(\n",
       "      (RDB1): ResidualDenseBlock_5C(\n",
       "        (conv1): Conv2d(64, 32, kernel_size=(3, 3), stride=(1, 1), padding=(1, 1))\n",
       "        (conv2): Conv2d(96, 32, kernel_size=(3, 3), stride=(1, 1), padding=(1, 1))\n",
       "        (conv3): Conv2d(128, 32, kernel_size=(3, 3), stride=(1, 1), padding=(1, 1))\n",
       "        (conv4): Conv2d(160, 32, kernel_size=(3, 3), stride=(1, 1), padding=(1, 1))\n",
       "        (conv5): Conv2d(192, 64, kernel_size=(3, 3), stride=(1, 1), padding=(1, 1))\n",
       "        (lrelu): LeakyReLU(negative_slope=0.2, inplace=True)\n",
       "      )\n",
       "      (RDB2): ResidualDenseBlock_5C(\n",
       "        (conv1): Conv2d(64, 32, kernel_size=(3, 3), stride=(1, 1), padding=(1, 1))\n",
       "        (conv2): Conv2d(96, 32, kernel_size=(3, 3), stride=(1, 1), padding=(1, 1))\n",
       "        (conv3): Conv2d(128, 32, kernel_size=(3, 3), stride=(1, 1), padding=(1, 1))\n",
       "        (conv4): Conv2d(160, 32, kernel_size=(3, 3), stride=(1, 1), padding=(1, 1))\n",
       "        (conv5): Conv2d(192, 64, kernel_size=(3, 3), stride=(1, 1), padding=(1, 1))\n",
       "        (lrelu): LeakyReLU(negative_slope=0.2, inplace=True)\n",
       "      )\n",
       "      (RDB3): ResidualDenseBlock_5C(\n",
       "        (conv1): Conv2d(64, 32, kernel_size=(3, 3), stride=(1, 1), padding=(1, 1))\n",
       "        (conv2): Conv2d(96, 32, kernel_size=(3, 3), stride=(1, 1), padding=(1, 1))\n",
       "        (conv3): Conv2d(128, 32, kernel_size=(3, 3), stride=(1, 1), padding=(1, 1))\n",
       "        (conv4): Conv2d(160, 32, kernel_size=(3, 3), stride=(1, 1), padding=(1, 1))\n",
       "        (conv5): Conv2d(192, 64, kernel_size=(3, 3), stride=(1, 1), padding=(1, 1))\n",
       "        (lrelu): LeakyReLU(negative_slope=0.2, inplace=True)\n",
       "      )\n",
       "    )\n",
       "    (17): RRDB(\n",
       "      (RDB1): ResidualDenseBlock_5C(\n",
       "        (conv1): Conv2d(64, 32, kernel_size=(3, 3), stride=(1, 1), padding=(1, 1))\n",
       "        (conv2): Conv2d(96, 32, kernel_size=(3, 3), stride=(1, 1), padding=(1, 1))\n",
       "        (conv3): Conv2d(128, 32, kernel_size=(3, 3), stride=(1, 1), padding=(1, 1))\n",
       "        (conv4): Conv2d(160, 32, kernel_size=(3, 3), stride=(1, 1), padding=(1, 1))\n",
       "        (conv5): Conv2d(192, 64, kernel_size=(3, 3), stride=(1, 1), padding=(1, 1))\n",
       "        (lrelu): LeakyReLU(negative_slope=0.2, inplace=True)\n",
       "      )\n",
       "      (RDB2): ResidualDenseBlock_5C(\n",
       "        (conv1): Conv2d(64, 32, kernel_size=(3, 3), stride=(1, 1), padding=(1, 1))\n",
       "        (conv2): Conv2d(96, 32, kernel_size=(3, 3), stride=(1, 1), padding=(1, 1))\n",
       "        (conv3): Conv2d(128, 32, kernel_size=(3, 3), stride=(1, 1), padding=(1, 1))\n",
       "        (conv4): Conv2d(160, 32, kernel_size=(3, 3), stride=(1, 1), padding=(1, 1))\n",
       "        (conv5): Conv2d(192, 64, kernel_size=(3, 3), stride=(1, 1), padding=(1, 1))\n",
       "        (lrelu): LeakyReLU(negative_slope=0.2, inplace=True)\n",
       "      )\n",
       "      (RDB3): ResidualDenseBlock_5C(\n",
       "        (conv1): Conv2d(64, 32, kernel_size=(3, 3), stride=(1, 1), padding=(1, 1))\n",
       "        (conv2): Conv2d(96, 32, kernel_size=(3, 3), stride=(1, 1), padding=(1, 1))\n",
       "        (conv3): Conv2d(128, 32, kernel_size=(3, 3), stride=(1, 1), padding=(1, 1))\n",
       "        (conv4): Conv2d(160, 32, kernel_size=(3, 3), stride=(1, 1), padding=(1, 1))\n",
       "        (conv5): Conv2d(192, 64, kernel_size=(3, 3), stride=(1, 1), padding=(1, 1))\n",
       "        (lrelu): LeakyReLU(negative_slope=0.2, inplace=True)\n",
       "      )\n",
       "    )\n",
       "    (18): RRDB(\n",
       "      (RDB1): ResidualDenseBlock_5C(\n",
       "        (conv1): Conv2d(64, 32, kernel_size=(3, 3), stride=(1, 1), padding=(1, 1))\n",
       "        (conv2): Conv2d(96, 32, kernel_size=(3, 3), stride=(1, 1), padding=(1, 1))\n",
       "        (conv3): Conv2d(128, 32, kernel_size=(3, 3), stride=(1, 1), padding=(1, 1))\n",
       "        (conv4): Conv2d(160, 32, kernel_size=(3, 3), stride=(1, 1), padding=(1, 1))\n",
       "        (conv5): Conv2d(192, 64, kernel_size=(3, 3), stride=(1, 1), padding=(1, 1))\n",
       "        (lrelu): LeakyReLU(negative_slope=0.2, inplace=True)\n",
       "      )\n",
       "      (RDB2): ResidualDenseBlock_5C(\n",
       "        (conv1): Conv2d(64, 32, kernel_size=(3, 3), stride=(1, 1), padding=(1, 1))\n",
       "        (conv2): Conv2d(96, 32, kernel_size=(3, 3), stride=(1, 1), padding=(1, 1))\n",
       "        (conv3): Conv2d(128, 32, kernel_size=(3, 3), stride=(1, 1), padding=(1, 1))\n",
       "        (conv4): Conv2d(160, 32, kernel_size=(3, 3), stride=(1, 1), padding=(1, 1))\n",
       "        (conv5): Conv2d(192, 64, kernel_size=(3, 3), stride=(1, 1), padding=(1, 1))\n",
       "        (lrelu): LeakyReLU(negative_slope=0.2, inplace=True)\n",
       "      )\n",
       "      (RDB3): ResidualDenseBlock_5C(\n",
       "        (conv1): Conv2d(64, 32, kernel_size=(3, 3), stride=(1, 1), padding=(1, 1))\n",
       "        (conv2): Conv2d(96, 32, kernel_size=(3, 3), stride=(1, 1), padding=(1, 1))\n",
       "        (conv3): Conv2d(128, 32, kernel_size=(3, 3), stride=(1, 1), padding=(1, 1))\n",
       "        (conv4): Conv2d(160, 32, kernel_size=(3, 3), stride=(1, 1), padding=(1, 1))\n",
       "        (conv5): Conv2d(192, 64, kernel_size=(3, 3), stride=(1, 1), padding=(1, 1))\n",
       "        (lrelu): LeakyReLU(negative_slope=0.2, inplace=True)\n",
       "      )\n",
       "    )\n",
       "    (19): RRDB(\n",
       "      (RDB1): ResidualDenseBlock_5C(\n",
       "        (conv1): Conv2d(64, 32, kernel_size=(3, 3), stride=(1, 1), padding=(1, 1))\n",
       "        (conv2): Conv2d(96, 32, kernel_size=(3, 3), stride=(1, 1), padding=(1, 1))\n",
       "        (conv3): Conv2d(128, 32, kernel_size=(3, 3), stride=(1, 1), padding=(1, 1))\n",
       "        (conv4): Conv2d(160, 32, kernel_size=(3, 3), stride=(1, 1), padding=(1, 1))\n",
       "        (conv5): Conv2d(192, 64, kernel_size=(3, 3), stride=(1, 1), padding=(1, 1))\n",
       "        (lrelu): LeakyReLU(negative_slope=0.2, inplace=True)\n",
       "      )\n",
       "      (RDB2): ResidualDenseBlock_5C(\n",
       "        (conv1): Conv2d(64, 32, kernel_size=(3, 3), stride=(1, 1), padding=(1, 1))\n",
       "        (conv2): Conv2d(96, 32, kernel_size=(3, 3), stride=(1, 1), padding=(1, 1))\n",
       "        (conv3): Conv2d(128, 32, kernel_size=(3, 3), stride=(1, 1), padding=(1, 1))\n",
       "        (conv4): Conv2d(160, 32, kernel_size=(3, 3), stride=(1, 1), padding=(1, 1))\n",
       "        (conv5): Conv2d(192, 64, kernel_size=(3, 3), stride=(1, 1), padding=(1, 1))\n",
       "        (lrelu): LeakyReLU(negative_slope=0.2, inplace=True)\n",
       "      )\n",
       "      (RDB3): ResidualDenseBlock_5C(\n",
       "        (conv1): Conv2d(64, 32, kernel_size=(3, 3), stride=(1, 1), padding=(1, 1))\n",
       "        (conv2): Conv2d(96, 32, kernel_size=(3, 3), stride=(1, 1), padding=(1, 1))\n",
       "        (conv3): Conv2d(128, 32, kernel_size=(3, 3), stride=(1, 1), padding=(1, 1))\n",
       "        (conv4): Conv2d(160, 32, kernel_size=(3, 3), stride=(1, 1), padding=(1, 1))\n",
       "        (conv5): Conv2d(192, 64, kernel_size=(3, 3), stride=(1, 1), padding=(1, 1))\n",
       "        (lrelu): LeakyReLU(negative_slope=0.2, inplace=True)\n",
       "      )\n",
       "    )\n",
       "    (20): RRDB(\n",
       "      (RDB1): ResidualDenseBlock_5C(\n",
       "        (conv1): Conv2d(64, 32, kernel_size=(3, 3), stride=(1, 1), padding=(1, 1))\n",
       "        (conv2): Conv2d(96, 32, kernel_size=(3, 3), stride=(1, 1), padding=(1, 1))\n",
       "        (conv3): Conv2d(128, 32, kernel_size=(3, 3), stride=(1, 1), padding=(1, 1))\n",
       "        (conv4): Conv2d(160, 32, kernel_size=(3, 3), stride=(1, 1), padding=(1, 1))\n",
       "        (conv5): Conv2d(192, 64, kernel_size=(3, 3), stride=(1, 1), padding=(1, 1))\n",
       "        (lrelu): LeakyReLU(negative_slope=0.2, inplace=True)\n",
       "      )\n",
       "      (RDB2): ResidualDenseBlock_5C(\n",
       "        (conv1): Conv2d(64, 32, kernel_size=(3, 3), stride=(1, 1), padding=(1, 1))\n",
       "        (conv2): Conv2d(96, 32, kernel_size=(3, 3), stride=(1, 1), padding=(1, 1))\n",
       "        (conv3): Conv2d(128, 32, kernel_size=(3, 3), stride=(1, 1), padding=(1, 1))\n",
       "        (conv4): Conv2d(160, 32, kernel_size=(3, 3), stride=(1, 1), padding=(1, 1))\n",
       "        (conv5): Conv2d(192, 64, kernel_size=(3, 3), stride=(1, 1), padding=(1, 1))\n",
       "        (lrelu): LeakyReLU(negative_slope=0.2, inplace=True)\n",
       "      )\n",
       "      (RDB3): ResidualDenseBlock_5C(\n",
       "        (conv1): Conv2d(64, 32, kernel_size=(3, 3), stride=(1, 1), padding=(1, 1))\n",
       "        (conv2): Conv2d(96, 32, kernel_size=(3, 3), stride=(1, 1), padding=(1, 1))\n",
       "        (conv3): Conv2d(128, 32, kernel_size=(3, 3), stride=(1, 1), padding=(1, 1))\n",
       "        (conv4): Conv2d(160, 32, kernel_size=(3, 3), stride=(1, 1), padding=(1, 1))\n",
       "        (conv5): Conv2d(192, 64, kernel_size=(3, 3), stride=(1, 1), padding=(1, 1))\n",
       "        (lrelu): LeakyReLU(negative_slope=0.2, inplace=True)\n",
       "      )\n",
       "    )\n",
       "    (21): RRDB(\n",
       "      (RDB1): ResidualDenseBlock_5C(\n",
       "        (conv1): Conv2d(64, 32, kernel_size=(3, 3), stride=(1, 1), padding=(1, 1))\n",
       "        (conv2): Conv2d(96, 32, kernel_size=(3, 3), stride=(1, 1), padding=(1, 1))\n",
       "        (conv3): Conv2d(128, 32, kernel_size=(3, 3), stride=(1, 1), padding=(1, 1))\n",
       "        (conv4): Conv2d(160, 32, kernel_size=(3, 3), stride=(1, 1), padding=(1, 1))\n",
       "        (conv5): Conv2d(192, 64, kernel_size=(3, 3), stride=(1, 1), padding=(1, 1))\n",
       "        (lrelu): LeakyReLU(negative_slope=0.2, inplace=True)\n",
       "      )\n",
       "      (RDB2): ResidualDenseBlock_5C(\n",
       "        (conv1): Conv2d(64, 32, kernel_size=(3, 3), stride=(1, 1), padding=(1, 1))\n",
       "        (conv2): Conv2d(96, 32, kernel_size=(3, 3), stride=(1, 1), padding=(1, 1))\n",
       "        (conv3): Conv2d(128, 32, kernel_size=(3, 3), stride=(1, 1), padding=(1, 1))\n",
       "        (conv4): Conv2d(160, 32, kernel_size=(3, 3), stride=(1, 1), padding=(1, 1))\n",
       "        (conv5): Conv2d(192, 64, kernel_size=(3, 3), stride=(1, 1), padding=(1, 1))\n",
       "        (lrelu): LeakyReLU(negative_slope=0.2, inplace=True)\n",
       "      )\n",
       "      (RDB3): ResidualDenseBlock_5C(\n",
       "        (conv1): Conv2d(64, 32, kernel_size=(3, 3), stride=(1, 1), padding=(1, 1))\n",
       "        (conv2): Conv2d(96, 32, kernel_size=(3, 3), stride=(1, 1), padding=(1, 1))\n",
       "        (conv3): Conv2d(128, 32, kernel_size=(3, 3), stride=(1, 1), padding=(1, 1))\n",
       "        (conv4): Conv2d(160, 32, kernel_size=(3, 3), stride=(1, 1), padding=(1, 1))\n",
       "        (conv5): Conv2d(192, 64, kernel_size=(3, 3), stride=(1, 1), padding=(1, 1))\n",
       "        (lrelu): LeakyReLU(negative_slope=0.2, inplace=True)\n",
       "      )\n",
       "    )\n",
       "    (22): RRDB(\n",
       "      (RDB1): ResidualDenseBlock_5C(\n",
       "        (conv1): Conv2d(64, 32, kernel_size=(3, 3), stride=(1, 1), padding=(1, 1))\n",
       "        (conv2): Conv2d(96, 32, kernel_size=(3, 3), stride=(1, 1), padding=(1, 1))\n",
       "        (conv3): Conv2d(128, 32, kernel_size=(3, 3), stride=(1, 1), padding=(1, 1))\n",
       "        (conv4): Conv2d(160, 32, kernel_size=(3, 3), stride=(1, 1), padding=(1, 1))\n",
       "        (conv5): Conv2d(192, 64, kernel_size=(3, 3), stride=(1, 1), padding=(1, 1))\n",
       "        (lrelu): LeakyReLU(negative_slope=0.2, inplace=True)\n",
       "      )\n",
       "      (RDB2): ResidualDenseBlock_5C(\n",
       "        (conv1): Conv2d(64, 32, kernel_size=(3, 3), stride=(1, 1), padding=(1, 1))\n",
       "        (conv2): Conv2d(96, 32, kernel_size=(3, 3), stride=(1, 1), padding=(1, 1))\n",
       "        (conv3): Conv2d(128, 32, kernel_size=(3, 3), stride=(1, 1), padding=(1, 1))\n",
       "        (conv4): Conv2d(160, 32, kernel_size=(3, 3), stride=(1, 1), padding=(1, 1))\n",
       "        (conv5): Conv2d(192, 64, kernel_size=(3, 3), stride=(1, 1), padding=(1, 1))\n",
       "        (lrelu): LeakyReLU(negative_slope=0.2, inplace=True)\n",
       "      )\n",
       "      (RDB3): ResidualDenseBlock_5C(\n",
       "        (conv1): Conv2d(64, 32, kernel_size=(3, 3), stride=(1, 1), padding=(1, 1))\n",
       "        (conv2): Conv2d(96, 32, kernel_size=(3, 3), stride=(1, 1), padding=(1, 1))\n",
       "        (conv3): Conv2d(128, 32, kernel_size=(3, 3), stride=(1, 1), padding=(1, 1))\n",
       "        (conv4): Conv2d(160, 32, kernel_size=(3, 3), stride=(1, 1), padding=(1, 1))\n",
       "        (conv5): Conv2d(192, 64, kernel_size=(3, 3), stride=(1, 1), padding=(1, 1))\n",
       "        (lrelu): LeakyReLU(negative_slope=0.2, inplace=True)\n",
       "      )\n",
       "    )\n",
       "  )\n",
       "  (trunk_conv): Conv2d(64, 64, kernel_size=(3, 3), stride=(1, 1), padding=(1, 1))\n",
       "  (upconv1): Conv2d(64, 64, kernel_size=(3, 3), stride=(1, 1), padding=(1, 1))\n",
       "  (upconv2): Conv2d(64, 64, kernel_size=(3, 3), stride=(1, 1), padding=(1, 1))\n",
       "  (HRconv): Conv2d(64, 64, kernel_size=(3, 3), stride=(1, 1), padding=(1, 1))\n",
       "  (conv_last): Conv2d(64, 3, kernel_size=(3, 3), stride=(1, 1), padding=(1, 1))\n",
       "  (lrelu): LeakyReLU(negative_slope=0.2, inplace=True)\n",
       ")"
      ]
     },
     "execution_count": 56,
     "metadata": {},
     "output_type": "execute_result"
    }
   ],
   "source": [
    "# set the model parameters and details\n",
    "model = RRDBNet(in_nc=3, out_nc=3, nf=64, nb=23, gc=32)\n",
    "model_path = cwd+'/RRDB_ESRGAN_x4 (1).pth'\n",
    "state_dict = torch.load(model_path, map_location='cpu')\n",
    "model.load_state_dict(state_dict, strict=True)\n",
    "device = torch.device('cuda' if torch.cuda.is_available() else 'cpu')\n",
    "model = model.to(device)\n",
    "model.eval()\n"
   ]
  },
  {
   "cell_type": "code",
   "execution_count": null,
   "metadata": {
    "execution": {
     "iopub.execute_input": "2025-05-09T21:33:01.800431Z",
     "iopub.status.busy": "2025-05-09T21:33:01.800075Z",
     "iopub.status.idle": "2025-05-09T21:33:01.805765Z",
     "shell.execute_reply": "2025-05-09T21:33:01.804710Z",
     "shell.execute_reply.started": "2025-05-09T21:33:01.800398Z"
    },
    "trusted": true
   },
   "outputs": [
    {
     "name": "stdout",
     "output_type": "stream",
     "text": [
      "1\n"
     ]
    }
   ],
   "source": [
    "# helper function to resize images using bicubic and convert to tensors\n",
    "def preprocess(image_path, device):\n",
    "    image = Image.open(image_path).convert('RGB')\n",
    "    image = image.resize((128,128), Image.BICUBIC)\n",
    "    transform = transforms.ToTensor()\n",
    "    image_tensor = transform(image).unsqueeze(0).to(device) \n",
    "\n",
    "    return image_tensor\n"
   ]
  },
  {
   "cell_type": "code",
   "execution_count": null,
   "metadata": {},
   "outputs": [
    {
     "name": "stdout",
     "output_type": "stream",
     "text": [
      "Exported to esrgan_model.onnx\n"
     ]
    }
   ],
   "source": [
    "model = model.cpu()\n",
    "dummy_input = torch.randn(1, 3, 64, 64)\n",
    "\n",
    "# export model into Onnx format for OpenVINO\n",
    "torch.onnx.export(\n",
    "    model,\n",
    "    dummy_input,\n",
    "    \"esrgan_model.onnx\",\n",
    "    opset_version=11,\n",
    "    input_names=[\"input\"],\n",
    "    output_names=[\"output\"],\n",
    "    dynamic_axes={\"input\": {2: \"height\", 3: \"width\"}, \"output\": {2: \"height_out\", 3: \"width_out\"}\n",
    "    }\n",
    ")\n",
    "print(\"Exported to esrgan_model.onnx\")"
   ]
  },
  {
   "cell_type": "code",
   "execution_count": null,
   "metadata": {},
   "outputs": [
    {
     "name": "stdout",
     "output_type": "stream",
     "text": [
      "Onnx model is valid!\n"
     ]
    }
   ],
   "source": [
    "import onnx\n",
    "\n",
    "# validate the exported Onxx model format\n",
    "onnx_model = onnx.load(\"esrgan_model.onnx\")\n",
    "\n",
    "onnx.checker.check_model(onnx_model)\n",
    "print(\"Onnx model is valid!\")"
   ]
  },
  {
   "cell_type": "code",
   "execution_count": null,
   "metadata": {},
   "outputs": [
    {
     "name": "stdout",
     "output_type": "stream",
     "text": [
      "[ INFO ] Generated IR will be compressed to FP16. If you get lower accuracy, please consider disabling compression by removing argument \"compress_to_fp16\" or set it to false \"compress_to_fp16=False\".\n",
      "Find more information about compression to FP16 at https://docs.openvino.ai/2023.0/openvino_docs_MO_DG_FP16_Compression.html\n",
      "[ SUCCESS ] XML file: c:\\Users\\Y\\Documents\\ml\\course_work\\ESRGAN\\esrgan_model.xml\n",
      "[ SUCCESS ] BIN file: c:\\Users\\Y\\Documents\\ml\\course_work\\ESRGAN\\esrgan_model.bin\n"
     ]
    }
   ],
   "source": [
    "# convert Onnx model into IR format (intermediate representation) - generates the bin and xml files that are used by OpenVINO\n",
    "!ovc esrgan_model.onnx"
   ]
  },
  {
   "cell_type": "code",
   "execution_count": null,
   "metadata": {
    "execution": {
     "iopub.execute_input": "2025-05-09T21:33:06.148309Z",
     "iopub.status.busy": "2025-05-09T21:33:06.147991Z",
     "iopub.status.idle": "2025-05-09T21:38:44.251681Z",
     "shell.execute_reply": "2025-05-09T21:38:44.249789Z",
     "shell.execute_reply.started": "2025-05-09T21:33:06.148286Z"
    },
    "trusted": true
   },
   "outputs": [
    {
     "name": "stderr",
     "output_type": "stream",
     "text": [
      "CPU Upscaling Images:   0%|          | 0/20 [00:00<?, ?it/s]"
     ]
    },
    {
     "name": "stderr",
     "output_type": "stream",
     "text": [
      "CPU Upscaling Images:   5%|▌         | 1/20 [04:14<1:20:39, 254.70s/it]"
     ]
    },
    {
     "name": "stdout",
     "output_type": "stream",
     "text": [
      "Completed inference for c:\\Users\\Y\\Documents\\ml\\course_work\\ESRGAN\\data\\input\\animals\\antelope\n"
     ]
    },
    {
     "name": "stderr",
     "output_type": "stream",
     "text": [
      "CPU Upscaling Images:  10%|█         | 2/20 [07:49<1:09:22, 231.27s/it]"
     ]
    },
    {
     "name": "stdout",
     "output_type": "stream",
     "text": [
      "Completed inference for c:\\Users\\Y\\Documents\\ml\\course_work\\ESRGAN\\data\\input\\animals\\badger\n"
     ]
    },
    {
     "name": "stderr",
     "output_type": "stream",
     "text": [
      "CPU Upscaling Images:  15%|█▌        | 3/20 [11:26<1:03:38, 224.61s/it]"
     ]
    },
    {
     "name": "stdout",
     "output_type": "stream",
     "text": [
      "Completed inference for c:\\Users\\Y\\Documents\\ml\\course_work\\ESRGAN\\data\\input\\animals\\bat\n"
     ]
    },
    {
     "name": "stderr",
     "output_type": "stream",
     "text": [
      "CPU Upscaling Images:  20%|██        | 4/20 [14:59<58:40, 220.02s/it]  "
     ]
    },
    {
     "name": "stdout",
     "output_type": "stream",
     "text": [
      "Completed inference for c:\\Users\\Y\\Documents\\ml\\course_work\\ESRGAN\\data\\input\\animals\\bear\n"
     ]
    },
    {
     "name": "stderr",
     "output_type": "stream",
     "text": [
      "CPU Upscaling Images:  25%|██▌       | 5/20 [18:29<54:08, 216.58s/it]"
     ]
    },
    {
     "name": "stdout",
     "output_type": "stream",
     "text": [
      "Completed inference for c:\\Users\\Y\\Documents\\ml\\course_work\\ESRGAN\\data\\input\\animals\\bee\n"
     ]
    },
    {
     "name": "stderr",
     "output_type": "stream",
     "text": [
      "CPU Upscaling Images:  30%|███       | 6/20 [21:58<49:53, 213.85s/it]"
     ]
    },
    {
     "name": "stdout",
     "output_type": "stream",
     "text": [
      "Completed inference for c:\\Users\\Y\\Documents\\ml\\course_work\\ESRGAN\\data\\input\\animals\\beetle\n"
     ]
    },
    {
     "name": "stderr",
     "output_type": "stream",
     "text": [
      "CPU Upscaling Images:  35%|███▌      | 7/20 [25:29<46:07, 212.90s/it]"
     ]
    },
    {
     "name": "stdout",
     "output_type": "stream",
     "text": [
      "Completed inference for c:\\Users\\Y\\Documents\\ml\\course_work\\ESRGAN\\data\\input\\animals\\bison\n"
     ]
    },
    {
     "name": "stderr",
     "output_type": "stream",
     "text": [
      "CPU Upscaling Images:  40%|████      | 8/20 [28:54<42:05, 210.49s/it]"
     ]
    },
    {
     "name": "stdout",
     "output_type": "stream",
     "text": [
      "Completed inference for c:\\Users\\Y\\Documents\\ml\\course_work\\ESRGAN\\data\\input\\animals\\boar\n"
     ]
    },
    {
     "name": "stderr",
     "output_type": "stream",
     "text": [
      "CPU Upscaling Images:  45%|████▌     | 9/20 [32:22<38:26, 209.66s/it]"
     ]
    },
    {
     "name": "stdout",
     "output_type": "stream",
     "text": [
      "Completed inference for c:\\Users\\Y\\Documents\\ml\\course_work\\ESRGAN\\data\\input\\animals\\butterfly\n"
     ]
    },
    {
     "name": "stderr",
     "output_type": "stream",
     "text": [
      "CPU Upscaling Images:  50%|█████     | 10/20 [35:51<34:55, 209.59s/it]"
     ]
    },
    {
     "name": "stdout",
     "output_type": "stream",
     "text": [
      "Completed inference for c:\\Users\\Y\\Documents\\ml\\course_work\\ESRGAN\\data\\input\\animals\\cat\n"
     ]
    },
    {
     "name": "stderr",
     "output_type": "stream",
     "text": [
      "CPU Upscaling Images:  55%|█████▌    | 11/20 [39:24<31:34, 210.45s/it]"
     ]
    },
    {
     "name": "stdout",
     "output_type": "stream",
     "text": [
      "Completed inference for c:\\Users\\Y\\Documents\\ml\\course_work\\ESRGAN\\data\\input\\animals\\caterpillar\n"
     ]
    },
    {
     "name": "stderr",
     "output_type": "stream",
     "text": [
      "CPU Upscaling Images:  60%|██████    | 12/20 [42:57<28:11, 211.42s/it]"
     ]
    },
    {
     "name": "stdout",
     "output_type": "stream",
     "text": [
      "Completed inference for c:\\Users\\Y\\Documents\\ml\\course_work\\ESRGAN\\data\\input\\animals\\chimpanzee\n"
     ]
    },
    {
     "name": "stderr",
     "output_type": "stream",
     "text": [
      "CPU Upscaling Images:  65%|██████▌   | 13/20 [46:25<24:31, 210.28s/it]"
     ]
    },
    {
     "name": "stdout",
     "output_type": "stream",
     "text": [
      "Completed inference for c:\\Users\\Y\\Documents\\ml\\course_work\\ESRGAN\\data\\input\\animals\\cockroach\n"
     ]
    },
    {
     "name": "stderr",
     "output_type": "stream",
     "text": [
      "CPU Upscaling Images:  70%|███████   | 14/20 [49:57<21:04, 210.71s/it]"
     ]
    },
    {
     "name": "stdout",
     "output_type": "stream",
     "text": [
      "Completed inference for c:\\Users\\Y\\Documents\\ml\\course_work\\ESRGAN\\data\\input\\animals\\cow\n"
     ]
    },
    {
     "name": "stderr",
     "output_type": "stream",
     "text": [
      "CPU Upscaling Images:  75%|███████▌  | 15/20 [53:34<17:43, 212.80s/it]"
     ]
    },
    {
     "name": "stdout",
     "output_type": "stream",
     "text": [
      "Completed inference for c:\\Users\\Y\\Documents\\ml\\course_work\\ESRGAN\\data\\input\\animals\\coyote\n"
     ]
    },
    {
     "name": "stderr",
     "output_type": "stream",
     "text": [
      "CPU Upscaling Images:  80%|████████  | 16/20 [57:01<14:03, 210.86s/it]"
     ]
    },
    {
     "name": "stdout",
     "output_type": "stream",
     "text": [
      "Completed inference for c:\\Users\\Y\\Documents\\ml\\course_work\\ESRGAN\\data\\input\\animals\\crab\n"
     ]
    },
    {
     "name": "stderr",
     "output_type": "stream",
     "text": [
      "CPU Upscaling Images:  85%|████████▌ | 17/20 [1:00:37<10:37, 212.60s/it]"
     ]
    },
    {
     "name": "stdout",
     "output_type": "stream",
     "text": [
      "Completed inference for c:\\Users\\Y\\Documents\\ml\\course_work\\ESRGAN\\data\\input\\animals\\crow\n"
     ]
    },
    {
     "name": "stderr",
     "output_type": "stream",
     "text": [
      "CPU Upscaling Images:  90%|█████████ | 18/20 [1:04:10<07:05, 212.70s/it]"
     ]
    },
    {
     "name": "stdout",
     "output_type": "stream",
     "text": [
      "Completed inference for c:\\Users\\Y\\Documents\\ml\\course_work\\ESRGAN\\data\\input\\animals\\deer\n"
     ]
    },
    {
     "name": "stderr",
     "output_type": "stream",
     "text": [
      "CPU Upscaling Images:  95%|█████████▌| 19/20 [1:07:43<03:32, 212.70s/it]"
     ]
    },
    {
     "name": "stdout",
     "output_type": "stream",
     "text": [
      "Completed inference for c:\\Users\\Y\\Documents\\ml\\course_work\\ESRGAN\\data\\input\\animals\\dog\n"
     ]
    },
    {
     "name": "stderr",
     "output_type": "stream",
     "text": [
      "CPU Upscaling Images: 100%|██████████| 20/20 [1:11:20<00:00, 214.03s/it]"
     ]
    },
    {
     "name": "stdout",
     "output_type": "stream",
     "text": [
      "Completed inference for c:\\Users\\Y\\Documents\\ml\\course_work\\ESRGAN\\data\\input\\animals\\dolphin\n",
      "\n",
      "=== Benchmark Results for default CPU Implementation ===\n",
      "CPU Usage Change: 28.60%\n",
      "Memory Used: -2057.01 MB\n",
      "\n",
      "[CPU] Processed 1200 images.\n",
      "[CPU] Total inference time: 4029.23 seconds\n",
      "[CPU] Average time per image: 3.3577 seconds\n"
     ]
    },
    {
     "name": "stderr",
     "output_type": "stream",
     "text": [
      "\n"
     ]
    }
   ],
   "source": [
    "# PART A - RUNNING UNOPTIMIZED DEFAUT CPU VERSION WITH DEFAULT THREAD COUNT\n",
    "\n",
    "from torchvision.utils import save_image\n",
    "from tqdm import tqdm\n",
    "import torch\n",
    "import time\n",
    "import psutil\n",
    "\n",
    "cpu_percent_before = psutil.cpu_percent(interval=None)\n",
    "memory_before = psutil.virtual_memory().used\n",
    "time_start = time.time()\n",
    "\n",
    "# model to cpu\n",
    "device = torch.device('cpu')\n",
    "model = model.to(device)\n",
    "model.eval()\n",
    "\n",
    "total_time = 0.0\n",
    "image_count = 0\n",
    "\n",
    "animal_dirs = sorted([d for d in input_root.iterdir() if d.is_dir()])[:20]\n",
    "\n",
    "for animal_dir in tqdm(animal_dirs, desc=\"CPU Upscaling Images\"):\n",
    "    output_class_dir = output_root / f\"{animal_dir.name}_cpu\"\n",
    "    output_class_dir.mkdir(parents=True, exist_ok=True)\n",
    "\n",
    "    for image_path in animal_dir.glob('*.jpg'):\n",
    "        try:\n",
    "            processed = preprocess(image_path, device)\n",
    "            if isinstance(processed, tuple):\n",
    "                low_res_image = processed[0]\n",
    "            else:\n",
    "                low_res_image = processed\n",
    "\n",
    "            start = time.time()\n",
    "\n",
    "            with torch.no_grad():\n",
    "                sr_image = model(low_res_image).clamp(0, 1)\n",
    "\n",
    "            end = time.time()\n",
    "\n",
    "            total_time += (end - start)\n",
    "            image_count += 1\n",
    "\n",
    "            if sr_image.dim() == 4 and sr_image.size(0) == 1:\n",
    "                sr_image = sr_image.squeeze(0)\n",
    "\n",
    "            # save output image\n",
    "            save_path = output_class_dir / image_path.with_suffix('.png').name\n",
    "            save_image(sr_image, save_path)\n",
    "\n",
    "        except Exception as e:\n",
    "            print(f\"Error with {image_path}: {e}\")\n",
    "\n",
    "    print(f'Completed inference for {animal_dir}')\n",
    "\n",
    "time_end = time.time()\n",
    "cpu_percent_after = psutil.cpu_percent(interval=None)\n",
    "memory_after = psutil.virtual_memory().used\n",
    "\n",
    "duration = time_end - time_start\n",
    "cpu_usage = cpu_percent_after - cpu_percent_before\n",
    "memory_used_mb = (memory_after - memory_before) / (1024 ** 2)\n",
    "\n",
    "print(f\"\\n=== Benchmark Results for default CPU Implementation ===\")\n",
    "print(f\"CPU Usage Change: {cpu_usage:.2f}%\")\n",
    "print(f\"Memory Used: {memory_used_mb:.2f} MB\")\n",
    "\n",
    "print(f\"\\n[CPU] Processed {image_count} images.\")\n",
    "print(f\"[CPU] Total inference time: {total_time:.2f} seconds\")\n",
    "print(f\"[CPU] Average time per image: {total_time / image_count:.4f} seconds\")\n"
   ]
  },
  {
   "cell_type": "code",
   "execution_count": null,
   "metadata": {},
   "outputs": [
    {
     "name": "stdout",
     "output_type": "stream",
     "text": [
      "\n",
      "Upscaling using thread count = 3\n"
     ]
    },
    {
     "name": "stderr",
     "output_type": "stream",
     "text": [
      "CPU Upscaling Images: 100%|██████████| 1/1 [02:19<00:00, 139.14s/it]"
     ]
    },
    {
     "name": "stdout",
     "output_type": "stream",
     "text": [
      "Completed inference for c:\\Users\\Y\\Documents\\ml\\course_work\\ESRGAN\\data\\input\\animals\\ant\n",
      "\n",
      "=== Benchmark Results for default CPU Implementation ===\n",
      "CPU Usage Change: 24.20%\n",
      "Memory Used: -170.51 MB\n",
      "\n",
      "[CPU] Processed 30 images.\n",
      "[CPU] Total inference time: 132.54 seconds\n",
      "[CPU] Average time per image: 4.4181 seconds\n",
      "\n",
      "Upscaling using thread count = 6\n"
     ]
    },
    {
     "name": "stderr",
     "output_type": "stream",
     "text": [
      "\n",
      "CPU Upscaling Images: 100%|██████████| 1/1 [01:54<00:00, 114.25s/it]"
     ]
    },
    {
     "name": "stdout",
     "output_type": "stream",
     "text": [
      "Completed inference for c:\\Users\\Y\\Documents\\ml\\course_work\\ESRGAN\\data\\input\\animals\\ant\n",
      "\n",
      "=== Benchmark Results for default CPU Implementation ===\n",
      "CPU Usage Change: 56.50%\n",
      "Memory Used: -0.28 MB\n",
      "\n",
      "[CPU] Processed 30 images.\n",
      "[CPU] Total inference time: 107.53 seconds\n",
      "[CPU] Average time per image: 3.5845 seconds\n",
      "\n",
      "Upscaling using thread count = 9\n"
     ]
    },
    {
     "name": "stderr",
     "output_type": "stream",
     "text": [
      "\n",
      "CPU Upscaling Images: 100%|██████████| 1/1 [01:41<00:00, 101.91s/it]"
     ]
    },
    {
     "name": "stdout",
     "output_type": "stream",
     "text": [
      "Completed inference for c:\\Users\\Y\\Documents\\ml\\course_work\\ESRGAN\\data\\input\\animals\\ant\n",
      "\n",
      "=== Benchmark Results for default CPU Implementation ===\n",
      "CPU Usage Change: 82.90%\n",
      "Memory Used: 47.44 MB\n",
      "\n",
      "[CPU] Processed 30 images.\n",
      "[CPU] Total inference time: 94.89 seconds\n",
      "[CPU] Average time per image: 3.1629 seconds\n",
      "\n",
      "Upscaling using thread count = 12\n"
     ]
    },
    {
     "name": "stderr",
     "output_type": "stream",
     "text": [
      "\n",
      "CPU Upscaling Images: 100%|██████████| 1/1 [01:41<00:00, 101.24s/it]"
     ]
    },
    {
     "name": "stdout",
     "output_type": "stream",
     "text": [
      "Completed inference for c:\\Users\\Y\\Documents\\ml\\course_work\\ESRGAN\\data\\input\\animals\\ant\n",
      "\n",
      "=== Benchmark Results for default CPU Implementation ===\n",
      "CPU Usage Change: 98.60%\n",
      "Memory Used: -8.58 MB\n",
      "\n",
      "[CPU] Processed 30 images.\n",
      "[CPU] Total inference time: 94.03 seconds\n",
      "[CPU] Average time per image: 3.1343 seconds\n"
     ]
    },
    {
     "name": "stderr",
     "output_type": "stream",
     "text": [
      "\n"
     ]
    }
   ],
   "source": [
    "# PART B - RUNNING UNOPTIMIZED CPU VERSION WITH VARIABLE THREAD COUNT - RUN ON SUBSET OF IMAGES. \n",
    "# THREAD COUNTS TESTED - 3, 6, 9, 12\n",
    "from torchvision.utils import save_image\n",
    "from tqdm import tqdm\n",
    "import torch\n",
    "import time\n",
    "import psutil\n",
    "\n",
    "\n",
    "def process_images(thread_cnt):\n",
    "\n",
    "    torch.set_num_threads(thread_cnt)\n",
    "\n",
    "    print(f\"\\nUpscaling using thread count = {torch.get_num_threads()}\")\n",
    "    \n",
    "    cpu_percent_before = psutil.cpu_percent(interval=None)\n",
    "    memory_before = psutil.virtual_memory().used\n",
    "    time_start = time.time()\n",
    "\n",
    "    model = RRDBNet(in_nc=3, out_nc=3, nf=64, nb=23, gc=32)\n",
    "    model_path = cwd+'/RRDB_ESRGAN_x4 (1).pth'\n",
    "    state_dict = torch.load(model_path, map_location='cpu')\n",
    "    model.load_state_dict(state_dict, strict=True)\n",
    "\n",
    "    # model to cpu\n",
    "    device = torch.device('cpu')\n",
    "    model = model.to(device)\n",
    "    model.eval()\n",
    "\n",
    "    total_time = 0.0\n",
    "    image_count = 0\n",
    "\n",
    "    animal_dirs = sorted([d for d in input_root.iterdir() if d.is_dir()])[:1]\n",
    "\n",
    "\n",
    "    for animal_dir in tqdm(animal_dirs, desc=\"CPU Upscaling Images\"):\n",
    "        output_class_dir = output_root / f\"{animal_dir.name}_cpu\"\n",
    "        output_class_dir.mkdir(parents=True, exist_ok=True)\n",
    "\n",
    "        for image_path in animal_dir.glob('*.jpg'):\n",
    "            try:\n",
    "                processed = preprocess(image_path, device)\n",
    "                if isinstance(processed, tuple):\n",
    "                    low_res_image = processed[0]\n",
    "                else:\n",
    "                    low_res_image = processed\n",
    "\n",
    "                start = time.time()\n",
    "\n",
    "                with torch.no_grad():\n",
    "                    sr_image = model(low_res_image).clamp(0, 1)\n",
    "\n",
    "                end = time.time()\n",
    "\n",
    "                total_time += (end - start)\n",
    "                image_count += 1\n",
    "\n",
    "                if sr_image.dim() == 4 and sr_image.size(0) == 1:\n",
    "                    sr_image = sr_image.squeeze(0)\n",
    "\n",
    "                # save output image\n",
    "                save_path = output_class_dir / image_path.with_suffix('.png').name\n",
    "                save_image(sr_image, save_path)\n",
    "\n",
    "            except Exception as e:\n",
    "                print(f\"Error with {image_path}: {e}\")\n",
    "\n",
    "        print(f'Completed inference for {animal_dir}')\n",
    "\n",
    "    time_end = time.time()\n",
    "    cpu_percent_after = psutil.cpu_percent(interval=None)\n",
    "    memory_after = psutil.virtual_memory().used\n",
    "\n",
    "    duration = time_end - time_start\n",
    "    cpu_usage = cpu_percent_after - cpu_percent_before\n",
    "    memory_used_mb = (memory_after - memory_before) / (1024 ** 2)\n",
    "\n",
    "    print(f\"\\n=== Benchmark Results for default CPU Implementation ===\")\n",
    "    print(f\"CPU Usage Change: {cpu_usage:.2f}%\")\n",
    "    print(f\"Memory Used: {memory_used_mb:.2f} MB\")\n",
    "\n",
    "    print(f\"\\n[CPU] Processed {image_count} images.\")\n",
    "    print(f\"[CPU] Total inference time: {total_time:.2f} seconds\")\n",
    "    print(f\"[CPU] Average time per image: {total_time / image_count:.4f} seconds\")\n",
    "\n",
    "threads_list = [3, 6, 9, 12]\n",
    "\n",
    "for thread_cnt in threads_list:\n",
    "    process_images(thread_cnt)\n",
    "\n"
   ]
  },
  {
   "cell_type": "code",
   "execution_count": null,
   "metadata": {},
   "outputs": [
    {
     "name": "stderr",
     "output_type": "stream",
     "text": [
      "OpenVINO CPU Upscaling Images: 100%|██████████| 20/20 [46:42<00:00, 140.11s/it]"
     ]
    },
    {
     "name": "stdout",
     "output_type": "stream",
     "text": [
      "\n",
      "=== Benchmark Results for OpenVINO CPU Implementation ===\n",
      "CPU Usage: 53.60%\n",
      "Memory Used: 123.68 MB\n",
      "\n",
      "[OpenVINO CPU] Processed 1200 images.\n",
      "[OpenVINO CPU] Total inference time: 2553.60 seconds\n",
      "[OpenVINO CPU] Average time per image: 2.1280 seconds\n"
     ]
    },
    {
     "name": "stderr",
     "output_type": "stream",
     "text": [
      "\n"
     ]
    }
   ],
   "source": [
    "# PART C - OPENVINO OPTIMIZED VERSION - USES THE IR FORMAT CONVERTED BIN FILE FOR MODEL\n",
    "\n",
    "from openvino import Core\n",
    "import numpy as np\n",
    "import torch\n",
    "from torchvision.utils import save_image\n",
    "from tqdm import tqdm\n",
    "import time\n",
    "from pathlib import Path\n",
    "\n",
    "cpu_percent_before = psutil.cpu_percent(interval=None)\n",
    "memory_before = psutil.virtual_memory().used\n",
    "time_start = time.time()\n",
    "\n",
    "openvino_libs = os.path.join(sys.prefix, \"Lib\", \"site-packages\", \"openvino\", \"libs\")\n",
    "os.add_dll_directory(openvino_libs)\n",
    "\n",
    "# change the model path to where the model was exported\n",
    "model_path = \"c:/Users/Y/Documents/ml/course_work/ESRGAN/esrgan_model.xml\"\n",
    "\n",
    "# load openvino model\n",
    "ie = Core()\n",
    "model_ov = ie.read_model(model=model_path)\n",
    "compiled_model = ie.compile_model(model=model_ov, device_name=\"CPU\")\n",
    "input_layer = compiled_model.input(0)\n",
    "output_layer = compiled_model.output(0)\n",
    "\n",
    "total_time = 0.0\n",
    "image_count = 0\n",
    "\n",
    "animal_dirs = sorted([d for d in input_root.iterdir() if d.is_dir()])[:20]\n",
    "\n",
    "# get images from animal dataset\n",
    "for animal_dir in tqdm(animal_dirs, desc=\"OpenVINO CPU Upscaling Images\"):\n",
    "    output_class_dir = output_root / f\"{animal_dir.name}_cpu\"\n",
    "    output_class_dir.mkdir(parents=True, exist_ok=True)\n",
    "\n",
    "    for image_path in animal_dir.glob('*.jpg'):\n",
    "        try:\n",
    "            processed = preprocess(image_path, device='cpu') \n",
    "            if isinstance(processed, torch.Tensor):\n",
    "                processed = processed.numpy()\n",
    "\n",
    "            processed = processed.astype(np.float32)\n",
    "\n",
    "            \n",
    "            start = time.time()\n",
    "            result = compiled_model([processed])[output_layer]\n",
    "\n",
    "            end = time.time()\n",
    "            total_time += (end - start)\n",
    "            image_count += 1\n",
    "\n",
    "\n",
    "            sr_image = torch.tensor(result).squeeze(0).clamp(0, 1) \n",
    "\n",
    "            save_path = output_class_dir / image_path.with_suffix('.png').name\n",
    "            save_image(sr_image, save_path)\n",
    "\n",
    "        except Exception as e:\n",
    "            print(f\"Error with {image_path}: {e}\")\n",
    "\n",
    "time_end = time.time()\n",
    "cpu_percent_after = psutil.cpu_percent(interval=None)\n",
    "memory_after = psutil.virtual_memory().used\n",
    "\n",
    "duration = time_end - time_start\n",
    "cpu_usage = cpu_percent_after - cpu_percent_before\n",
    "memory_used_mb = (memory_after - memory_before) / (1024 ** 2)\n",
    "\n",
    "print(f\"\\n=== Benchmark Results for OpenVINO CPU Implementation ===\")\n",
    "print(f\"CPU Usage: {cpu_usage:.2f}%\")\n",
    "print(f\"Memory Used: {memory_used_mb:.2f} MB\")\n",
    "\n",
    "print(f\"\\n[OpenVINO CPU] Processed {image_count} images.\")\n",
    "print(f\"[OpenVINO CPU] Total inference time: {total_time:.2f} seconds\")\n",
    "print(f\"[OpenVINO CPU] Average time per image: {total_time / image_count:.4f} seconds\")"
   ]
  }
 ],
 "metadata": {
  "kaggle": {
   "accelerator": "none",
   "dataSources": [
    {
     "datasetId": 1554380,
     "sourceId": 3952946,
     "sourceType": "datasetVersion"
    },
    {
     "isSourceIdPinned": false,
     "modelId": 140604,
     "modelInstanceId": 117375,
     "sourceId": 138601,
     "sourceType": "modelInstanceVersion"
    },
    {
     "isSourceIdPinned": false,
     "modelId": 327826,
     "modelInstanceId": 307350,
     "sourceId": 371295,
     "sourceType": "modelInstanceVersion"
    }
   ],
   "dockerImageVersionId": 31011,
   "isGpuEnabled": false,
   "isInternetEnabled": true,
   "language": "python",
   "sourceType": "notebook"
  },
  "kernelspec": {
   "display_name": "base",
   "language": "python",
   "name": "python3"
  },
  "language_info": {
   "codemirror_mode": {
    "name": "ipython",
    "version": 3
   },
   "file_extension": ".py",
   "mimetype": "text/x-python",
   "name": "python",
   "nbconvert_exporter": "python",
   "pygments_lexer": "ipython3",
   "version": "3.12.7"
  }
 },
 "nbformat": 4,
 "nbformat_minor": 4
}
